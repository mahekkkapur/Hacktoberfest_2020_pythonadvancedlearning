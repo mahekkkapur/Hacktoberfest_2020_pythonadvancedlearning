{
 "cells": [
  {
   "cell_type": "markdown",
   "metadata": {
    "colab_type": "text",
    "id": "3tWQnVjqfFwv"
   },
   "source": [
    "## Data Leakage, L1(Lasso) and L2 (Ridge) regularization using Linear Regression\n",
    "\n",
    "We will use cross validation, lasso and ridge regression in this lab.\n",
    "\n",
    "Specifically speaking, <br>\n",
    "Regularization basically adds the penalty as model complexity increases.<br>\n",
    "Cross validation is used to evaluate how well our model can generalize on the dataset. <br>\n",
    "\n",
    "We will be using r2 score in this lab. It provides an indication of goodness of fit and therefore a measure of how well unseen samples are likely to be predicted by the model.\n",
    "\n",
    "\n",
    "In this task, we will explore the following things on linear regression model:\n",
    "- Cross Validation\n",
    "- L1 regularization (Lasso regression)\n",
    "- L2 regularization (Ridge regression)\n",
    "\n",
    "\n",
    "#### Dataset\n",
    "The dataset is available at \"data/bike.csv\" in the respective challenge's repo.<br>\n",
    "\n",
    "The dataset is __modified version__ of the dataset 'bike.csv' provided by UCI Machine Learning repository.\n",
    "\n",
    "Original dataset: https://archive.ics.uci.edu/ml/datasets/bike+sharing+dataset\n",
    "\n",
    "#### Objective\n",
    "To learn about how cross validation, L1 regularization and L2 regularization work.\n",
    "\n",
    "#### Tasks\n",
    "- load the dataset.\n",
    "- perform pre-processing on the data.\n",
    "- remove registered feature and keep the casual feature to understand data leakage.\n",
    "- construct train and test dataset.\n",
    "- create a linear regression model.\n",
    "- check the r2 score of the initial linear regression model on train and test dataset\n",
    "- observe distribution of weights in the initial linear regression model. \n",
    "- split the dataset into k consecutive folds.\n",
    "- calculate cross validation score for the k fold and check how well our model can generalize on the training dataset.\n",
    "- checking the variance threshold of dataset and remove features with low variance.\n",
    "- apply L1 regularization on the dataset and check the r2_score.\n",
    "- visualize the distribution of weights on the lasso regression model.\n",
    "- apply L2 regularization on the dataset and check the r2_score.\n",
    "- visualize the distribution of weights on the ridge regression model. \n",
    "\n",
    "#### Further fun\n",
    "- apply RFE on the dataset to automatically remove uneccessary features which would prevent overfitting.\n",
    "- don't remove casual and registered features and check the effect of data leakage on the model\n",
    "- implement lasso and ridge regression without using inbuilt librarires.\n",
    "- apply elastic net to visualize the effect of both ridge and lasso regression.\n",
    "\n",
    "\n",
    "#### Helpful links\n",
    "- Cross validation : https://machinelearningmastery.com/k-fold-cross-validation/#:~:text=Cross%2Dvalidation%20is%20a%20resampling,k%2Dfold%20cross%2Dvalidation.\n",
    "- Cross validation: https://scikit-learn.org/stable/modules/cross_validation.html\n",
    "- L1 and L2 regularization : https://towardsdatascience.com/ridge-and-lasso-regression-a-complete-guide-with-python-scikit-learn-e20e34bcbf0b\n",
    "- L1 and L2 regularization : https://www.youtube.com/watch?v=9lRv01HDU0s&list=PLZoTAELRMXVPBTrWtJkn3wWQxZkmTXGwe&index=30&t=904s\n",
    "- r2_score: https://scikit-learn.org/stable/modules/generated/sklearn.metrics.r2_score.html#sklearn.metrics.r2_score\n",
    "- pd.get_dummies() and One Hot Encoding: https://queirozf.com/entries/one-hot-encoding-a-feature-on-a-pandas-dataframe-an-example\n",
    "- Data Leakage : \"https://machinelearningmastery.com/data-leakage-machine-learning/\n",
    "- sklearn k-fold : https://scikit-learn.org/stable/modules/generated/sklearn.model_selection.KFold.html\n",
    "- sklearn cross_val_score : https://scikit-learn.org/stable/modules/generated/sklearn.model_selection.cross_val_score.html?highlight=cross_val_score#sklearn.model_selection.cross_val_score\n",
    "- sklearn lasso regression : https://scikit-learn.org/stable/modules/generated/sklearn.linear_model.Lasso.html?highlight=lasso#sklearn.linear_model.Lasso\n",
    "- sklearn ridge regression : https://scikit-learn.org/stable/modules/generated/sklearn.linear_model.Ridge.html?highlight=ridge#sklearn.linear_model.Ridge\n",
    "- RFE : https://machinelearningmastery.com/rfe-feature-selection-in-python/\n",
    "- RFE sklearn : https://scikit-learn.org/stable/modules/generated/sklearn.feature_selection.RFE.html\n",
    "- Use slack for doubts: "
   ]
  },
  {
   "cell_type": "code",
   "execution_count": 44,
   "metadata": {
    "colab": {},
    "colab_type": "code",
    "id": "mRl7KPgwjRHI"
   },
   "outputs": [],
   "source": [
    "#import the necessary libraries\n",
    "import pandas as pd\n",
    "import numpy as np\n",
    "import matplotlib.pyplot as plt\n",
    "\n",
    "# Sklearn processing\n",
    "from sklearn.preprocessing import MinMaxScaler\n",
    "from sklearn.model_selection import train_test_split\n",
    "from sklearn.model_selection import KFold\n",
    "from sklearn.model_selection import cross_val_score\n",
    "from sklearn.svm import SVR\n",
    "\n",
    "# Sklearn linear regression model\n",
    "from sklearn.linear_model import LinearRegression\n",
    "\n",
    "# Sklearn regression model evaluation functions\n",
    "from sklearn.metrics import r2_score\n",
    "\n",
    "# Perform feature selection using a variance threshold\n",
    "from sklearn.feature_selection import VarianceThreshold\n",
    "\n",
    "# Feature selection using Recursive Feature Elimimation\n",
    "from sklearn.feature_selection import RFE"
   ]
  },
  {
   "cell_type": "code",
   "execution_count": 2,
   "metadata": {
    "colab": {},
    "colab_type": "code",
    "id": "Vq1jiQz-kIpA"
   },
   "outputs": [
    {
     "data": {
      "text/html": [
       "<div>\n",
       "<style scoped>\n",
       "    .dataframe tbody tr th:only-of-type {\n",
       "        vertical-align: middle;\n",
       "    }\n",
       "\n",
       "    .dataframe tbody tr th {\n",
       "        vertical-align: top;\n",
       "    }\n",
       "\n",
       "    .dataframe thead th {\n",
       "        text-align: right;\n",
       "    }\n",
       "</style>\n",
       "<table border=\"1\" class=\"dataframe\">\n",
       "  <thead>\n",
       "    <tr style=\"text-align: right;\">\n",
       "      <th></th>\n",
       "      <th>id</th>\n",
       "      <th>season</th>\n",
       "      <th>year</th>\n",
       "      <th>holiday</th>\n",
       "      <th>weekday</th>\n",
       "      <th>workingday</th>\n",
       "      <th>weather</th>\n",
       "      <th>temp</th>\n",
       "      <th>feel_temp</th>\n",
       "      <th>hum</th>\n",
       "      <th>windspeed</th>\n",
       "      <th>promotion_level</th>\n",
       "      <th>promotion_type</th>\n",
       "      <th>promotion_level_external</th>\n",
       "      <th>promotion_type_external</th>\n",
       "      <th>casual</th>\n",
       "      <th>registered</th>\n",
       "      <th>cnt</th>\n",
       "    </tr>\n",
       "  </thead>\n",
       "  <tbody>\n",
       "    <tr>\n",
       "      <th>0</th>\n",
       "      <td>12765</td>\n",
       "      <td>winter</td>\n",
       "      <td>2016</td>\n",
       "      <td>0</td>\n",
       "      <td>6</td>\n",
       "      <td>0</td>\n",
       "      <td>cloud</td>\n",
       "      <td>0.344167</td>\n",
       "      <td>0.363625</td>\n",
       "      <td>0.805833</td>\n",
       "      <td>0.160446</td>\n",
       "      <td>7</td>\n",
       "      <td>1</td>\n",
       "      <td>2</td>\n",
       "      <td>2</td>\n",
       "      <td>226</td>\n",
       "      <td>654</td>\n",
       "      <td>880</td>\n",
       "    </tr>\n",
       "    <tr>\n",
       "      <th>1</th>\n",
       "      <td>12766</td>\n",
       "      <td>winter</td>\n",
       "      <td>2016</td>\n",
       "      <td>0</td>\n",
       "      <td>0</td>\n",
       "      <td>0</td>\n",
       "      <td>cloud</td>\n",
       "      <td>0.363478</td>\n",
       "      <td>0.353739</td>\n",
       "      <td>0.696087</td>\n",
       "      <td>0.248539</td>\n",
       "      <td>8</td>\n",
       "      <td>1</td>\n",
       "      <td>8</td>\n",
       "      <td>1</td>\n",
       "      <td>125</td>\n",
       "      <td>670</td>\n",
       "      <td>795</td>\n",
       "    </tr>\n",
       "    <tr>\n",
       "      <th>2</th>\n",
       "      <td>12767</td>\n",
       "      <td>winter</td>\n",
       "      <td>2016</td>\n",
       "      <td>0</td>\n",
       "      <td>1</td>\n",
       "      <td>1</td>\n",
       "      <td>fair</td>\n",
       "      <td>0.196364</td>\n",
       "      <td>0.189405</td>\n",
       "      <td>0.437273</td>\n",
       "      <td>0.248309</td>\n",
       "      <td>3</td>\n",
       "      <td>1</td>\n",
       "      <td>10</td>\n",
       "      <td>2</td>\n",
       "      <td>75</td>\n",
       "      <td>1229</td>\n",
       "      <td>1304</td>\n",
       "    </tr>\n",
       "    <tr>\n",
       "      <th>3</th>\n",
       "      <td>12768</td>\n",
       "      <td>winter</td>\n",
       "      <td>2016</td>\n",
       "      <td>0</td>\n",
       "      <td>2</td>\n",
       "      <td>1</td>\n",
       "      <td>fair</td>\n",
       "      <td>0.200000</td>\n",
       "      <td>0.212122</td>\n",
       "      <td>0.590435</td>\n",
       "      <td>0.160296</td>\n",
       "      <td>0</td>\n",
       "      <td>1</td>\n",
       "      <td>8</td>\n",
       "      <td>3</td>\n",
       "      <td>67</td>\n",
       "      <td>1454</td>\n",
       "      <td>1521</td>\n",
       "    </tr>\n",
       "    <tr>\n",
       "      <th>4</th>\n",
       "      <td>12769</td>\n",
       "      <td>winter</td>\n",
       "      <td>2016</td>\n",
       "      <td>0</td>\n",
       "      <td>3</td>\n",
       "      <td>1</td>\n",
       "      <td>fair</td>\n",
       "      <td>0.226957</td>\n",
       "      <td>0.229270</td>\n",
       "      <td>0.436957</td>\n",
       "      <td>0.186900</td>\n",
       "      <td>2</td>\n",
       "      <td>0</td>\n",
       "      <td>5</td>\n",
       "      <td>1</td>\n",
       "      <td>58</td>\n",
       "      <td>1518</td>\n",
       "      <td>1576</td>\n",
       "    </tr>\n",
       "  </tbody>\n",
       "</table>\n",
       "</div>"
      ],
      "text/plain": [
       "      id  season  year  holiday  weekday  workingday weather      temp  \\\n",
       "0  12765  winter  2016        0        6           0   cloud  0.344167   \n",
       "1  12766  winter  2016        0        0           0   cloud  0.363478   \n",
       "2  12767  winter  2016        0        1           1    fair  0.196364   \n",
       "3  12768  winter  2016        0        2           1    fair  0.200000   \n",
       "4  12769  winter  2016        0        3           1    fair  0.226957   \n",
       "\n",
       "   feel_temp       hum  windspeed  promotion_level  promotion_type  \\\n",
       "0   0.363625  0.805833   0.160446                7               1   \n",
       "1   0.353739  0.696087   0.248539                8               1   \n",
       "2   0.189405  0.437273   0.248309                3               1   \n",
       "3   0.212122  0.590435   0.160296                0               1   \n",
       "4   0.229270  0.436957   0.186900                2               0   \n",
       "\n",
       "   promotion_level_external  promotion_type_external  casual  registered   cnt  \n",
       "0                         2                        2     226         654   880  \n",
       "1                         8                        1     125         670   795  \n",
       "2                        10                        2      75        1229  1304  \n",
       "3                         8                        3      67        1454  1521  \n",
       "4                         5                        1      58        1518  1576  "
      ]
     },
     "execution_count": 2,
     "metadata": {},
     "output_type": "execute_result"
    }
   ],
   "source": [
    "#load the data and inspect the first 5 rows\n",
    "data = pd.read_csv(\"data/bike.csv\")\n",
    "data.head(5)"
   ]
  },
  {
   "cell_type": "code",
   "execution_count": 3,
   "metadata": {
    "colab": {},
    "colab_type": "code",
    "id": "pw5T1NvekL65"
   },
   "outputs": [
    {
     "data": {
      "text/plain": [
       "id                             int64\n",
       "season                      category\n",
       "year                           int64\n",
       "holiday                        int64\n",
       "weekday                        int64\n",
       "workingday                     int64\n",
       "weather                     category\n",
       "temp                         float64\n",
       "feel_temp                    float64\n",
       "hum                          float64\n",
       "windspeed                    float64\n",
       "promotion_level                int64\n",
       "promotion_type                 int64\n",
       "promotion_level_external       int64\n",
       "promotion_type_external        int64\n",
       "casual                         int64\n",
       "registered                     int64\n",
       "cnt                            int64\n",
       "dtype: object"
      ]
     },
     "execution_count": 3,
     "metadata": {},
     "output_type": "execute_result"
    }
   ],
   "source": [
    "# print the data types of each feature name\n",
    "for i in data.columns:\n",
    "    dt=data[i].dtype\n",
    "    if dt=='object':\n",
    "        data[i]=data[i].astype('category')\n",
    "\n",
    "data.dtypes"
   ]
  },
  {
   "cell_type": "code",
   "execution_count": 4,
   "metadata": {
    "colab": {},
    "colab_type": "code",
    "id": "RE0sjCi4kREL"
   },
   "outputs": [
    {
     "data": {
      "text/html": [
       "<div>\n",
       "<style scoped>\n",
       "    .dataframe tbody tr th:only-of-type {\n",
       "        vertical-align: middle;\n",
       "    }\n",
       "\n",
       "    .dataframe tbody tr th {\n",
       "        vertical-align: top;\n",
       "    }\n",
       "\n",
       "    .dataframe thead th {\n",
       "        text-align: right;\n",
       "    }\n",
       "</style>\n",
       "<table border=\"1\" class=\"dataframe\">\n",
       "  <thead>\n",
       "    <tr style=\"text-align: right;\">\n",
       "      <th></th>\n",
       "      <th>id</th>\n",
       "      <th>season</th>\n",
       "      <th>year</th>\n",
       "      <th>holiday</th>\n",
       "      <th>weekday</th>\n",
       "      <th>workingday</th>\n",
       "      <th>weather</th>\n",
       "      <th>temp</th>\n",
       "      <th>feel_temp</th>\n",
       "      <th>hum</th>\n",
       "      <th>windspeed</th>\n",
       "      <th>promotion_level</th>\n",
       "      <th>promotion_type</th>\n",
       "      <th>promotion_level_external</th>\n",
       "      <th>promotion_type_external</th>\n",
       "      <th>casual</th>\n",
       "      <th>registered</th>\n",
       "      <th>cnt</th>\n",
       "    </tr>\n",
       "  </thead>\n",
       "  <tbody>\n",
       "    <tr>\n",
       "      <th>0</th>\n",
       "      <td>False</td>\n",
       "      <td>False</td>\n",
       "      <td>False</td>\n",
       "      <td>False</td>\n",
       "      <td>False</td>\n",
       "      <td>False</td>\n",
       "      <td>False</td>\n",
       "      <td>False</td>\n",
       "      <td>False</td>\n",
       "      <td>False</td>\n",
       "      <td>False</td>\n",
       "      <td>False</td>\n",
       "      <td>False</td>\n",
       "      <td>False</td>\n",
       "      <td>False</td>\n",
       "      <td>False</td>\n",
       "      <td>False</td>\n",
       "      <td>False</td>\n",
       "    </tr>\n",
       "    <tr>\n",
       "      <th>1</th>\n",
       "      <td>False</td>\n",
       "      <td>False</td>\n",
       "      <td>False</td>\n",
       "      <td>False</td>\n",
       "      <td>False</td>\n",
       "      <td>False</td>\n",
       "      <td>False</td>\n",
       "      <td>False</td>\n",
       "      <td>False</td>\n",
       "      <td>False</td>\n",
       "      <td>False</td>\n",
       "      <td>False</td>\n",
       "      <td>False</td>\n",
       "      <td>False</td>\n",
       "      <td>False</td>\n",
       "      <td>False</td>\n",
       "      <td>False</td>\n",
       "      <td>False</td>\n",
       "    </tr>\n",
       "    <tr>\n",
       "      <th>2</th>\n",
       "      <td>False</td>\n",
       "      <td>False</td>\n",
       "      <td>False</td>\n",
       "      <td>False</td>\n",
       "      <td>False</td>\n",
       "      <td>False</td>\n",
       "      <td>False</td>\n",
       "      <td>False</td>\n",
       "      <td>False</td>\n",
       "      <td>False</td>\n",
       "      <td>False</td>\n",
       "      <td>False</td>\n",
       "      <td>False</td>\n",
       "      <td>False</td>\n",
       "      <td>False</td>\n",
       "      <td>False</td>\n",
       "      <td>False</td>\n",
       "      <td>False</td>\n",
       "    </tr>\n",
       "    <tr>\n",
       "      <th>3</th>\n",
       "      <td>False</td>\n",
       "      <td>False</td>\n",
       "      <td>False</td>\n",
       "      <td>False</td>\n",
       "      <td>False</td>\n",
       "      <td>False</td>\n",
       "      <td>False</td>\n",
       "      <td>False</td>\n",
       "      <td>False</td>\n",
       "      <td>False</td>\n",
       "      <td>False</td>\n",
       "      <td>False</td>\n",
       "      <td>False</td>\n",
       "      <td>False</td>\n",
       "      <td>False</td>\n",
       "      <td>False</td>\n",
       "      <td>False</td>\n",
       "      <td>False</td>\n",
       "    </tr>\n",
       "    <tr>\n",
       "      <th>4</th>\n",
       "      <td>False</td>\n",
       "      <td>False</td>\n",
       "      <td>False</td>\n",
       "      <td>False</td>\n",
       "      <td>False</td>\n",
       "      <td>False</td>\n",
       "      <td>False</td>\n",
       "      <td>False</td>\n",
       "      <td>False</td>\n",
       "      <td>False</td>\n",
       "      <td>False</td>\n",
       "      <td>False</td>\n",
       "      <td>False</td>\n",
       "      <td>False</td>\n",
       "      <td>False</td>\n",
       "      <td>False</td>\n",
       "      <td>False</td>\n",
       "      <td>False</td>\n",
       "    </tr>\n",
       "    <tr>\n",
       "      <th>...</th>\n",
       "      <td>...</td>\n",
       "      <td>...</td>\n",
       "      <td>...</td>\n",
       "      <td>...</td>\n",
       "      <td>...</td>\n",
       "      <td>...</td>\n",
       "      <td>...</td>\n",
       "      <td>...</td>\n",
       "      <td>...</td>\n",
       "      <td>...</td>\n",
       "      <td>...</td>\n",
       "      <td>...</td>\n",
       "      <td>...</td>\n",
       "      <td>...</td>\n",
       "      <td>...</td>\n",
       "      <td>...</td>\n",
       "      <td>...</td>\n",
       "      <td>...</td>\n",
       "    </tr>\n",
       "    <tr>\n",
       "      <th>360</th>\n",
       "      <td>False</td>\n",
       "      <td>False</td>\n",
       "      <td>False</td>\n",
       "      <td>False</td>\n",
       "      <td>False</td>\n",
       "      <td>False</td>\n",
       "      <td>False</td>\n",
       "      <td>False</td>\n",
       "      <td>False</td>\n",
       "      <td>False</td>\n",
       "      <td>False</td>\n",
       "      <td>False</td>\n",
       "      <td>False</td>\n",
       "      <td>False</td>\n",
       "      <td>False</td>\n",
       "      <td>False</td>\n",
       "      <td>False</td>\n",
       "      <td>False</td>\n",
       "    </tr>\n",
       "    <tr>\n",
       "      <th>361</th>\n",
       "      <td>False</td>\n",
       "      <td>False</td>\n",
       "      <td>False</td>\n",
       "      <td>False</td>\n",
       "      <td>False</td>\n",
       "      <td>False</td>\n",
       "      <td>False</td>\n",
       "      <td>False</td>\n",
       "      <td>False</td>\n",
       "      <td>False</td>\n",
       "      <td>False</td>\n",
       "      <td>False</td>\n",
       "      <td>False</td>\n",
       "      <td>False</td>\n",
       "      <td>False</td>\n",
       "      <td>False</td>\n",
       "      <td>False</td>\n",
       "      <td>False</td>\n",
       "    </tr>\n",
       "    <tr>\n",
       "      <th>362</th>\n",
       "      <td>False</td>\n",
       "      <td>False</td>\n",
       "      <td>False</td>\n",
       "      <td>False</td>\n",
       "      <td>False</td>\n",
       "      <td>False</td>\n",
       "      <td>False</td>\n",
       "      <td>False</td>\n",
       "      <td>False</td>\n",
       "      <td>False</td>\n",
       "      <td>False</td>\n",
       "      <td>False</td>\n",
       "      <td>False</td>\n",
       "      <td>False</td>\n",
       "      <td>False</td>\n",
       "      <td>False</td>\n",
       "      <td>False</td>\n",
       "      <td>False</td>\n",
       "    </tr>\n",
       "    <tr>\n",
       "      <th>363</th>\n",
       "      <td>False</td>\n",
       "      <td>False</td>\n",
       "      <td>False</td>\n",
       "      <td>False</td>\n",
       "      <td>False</td>\n",
       "      <td>False</td>\n",
       "      <td>False</td>\n",
       "      <td>False</td>\n",
       "      <td>False</td>\n",
       "      <td>False</td>\n",
       "      <td>False</td>\n",
       "      <td>False</td>\n",
       "      <td>False</td>\n",
       "      <td>False</td>\n",
       "      <td>False</td>\n",
       "      <td>False</td>\n",
       "      <td>False</td>\n",
       "      <td>False</td>\n",
       "    </tr>\n",
       "    <tr>\n",
       "      <th>364</th>\n",
       "      <td>False</td>\n",
       "      <td>False</td>\n",
       "      <td>False</td>\n",
       "      <td>False</td>\n",
       "      <td>False</td>\n",
       "      <td>False</td>\n",
       "      <td>False</td>\n",
       "      <td>False</td>\n",
       "      <td>False</td>\n",
       "      <td>False</td>\n",
       "      <td>False</td>\n",
       "      <td>False</td>\n",
       "      <td>False</td>\n",
       "      <td>False</td>\n",
       "      <td>False</td>\n",
       "      <td>False</td>\n",
       "      <td>False</td>\n",
       "      <td>False</td>\n",
       "    </tr>\n",
       "  </tbody>\n",
       "</table>\n",
       "<p>365 rows × 18 columns</p>\n",
       "</div>"
      ],
      "text/plain": [
       "        id  season   year  holiday  weekday  workingday  weather   temp  \\\n",
       "0    False   False  False    False    False       False    False  False   \n",
       "1    False   False  False    False    False       False    False  False   \n",
       "2    False   False  False    False    False       False    False  False   \n",
       "3    False   False  False    False    False       False    False  False   \n",
       "4    False   False  False    False    False       False    False  False   \n",
       "..     ...     ...    ...      ...      ...         ...      ...    ...   \n",
       "360  False   False  False    False    False       False    False  False   \n",
       "361  False   False  False    False    False       False    False  False   \n",
       "362  False   False  False    False    False       False    False  False   \n",
       "363  False   False  False    False    False       False    False  False   \n",
       "364  False   False  False    False    False       False    False  False   \n",
       "\n",
       "     feel_temp    hum  windspeed  promotion_level  promotion_type  \\\n",
       "0        False  False      False            False           False   \n",
       "1        False  False      False            False           False   \n",
       "2        False  False      False            False           False   \n",
       "3        False  False      False            False           False   \n",
       "4        False  False      False            False           False   \n",
       "..         ...    ...        ...              ...             ...   \n",
       "360      False  False      False            False           False   \n",
       "361      False  False      False            False           False   \n",
       "362      False  False      False            False           False   \n",
       "363      False  False      False            False           False   \n",
       "364      False  False      False            False           False   \n",
       "\n",
       "     promotion_level_external  promotion_type_external  casual  registered  \\\n",
       "0                       False                    False   False       False   \n",
       "1                       False                    False   False       False   \n",
       "2                       False                    False   False       False   \n",
       "3                       False                    False   False       False   \n",
       "4                       False                    False   False       False   \n",
       "..                        ...                      ...     ...         ...   \n",
       "360                     False                    False   False       False   \n",
       "361                     False                    False   False       False   \n",
       "362                     False                    False   False       False   \n",
       "363                     False                    False   False       False   \n",
       "364                     False                    False   False       False   \n",
       "\n",
       "       cnt  \n",
       "0    False  \n",
       "1    False  \n",
       "2    False  \n",
       "3    False  \n",
       "4    False  \n",
       "..     ...  \n",
       "360  False  \n",
       "361  False  \n",
       "362  False  \n",
       "363  False  \n",
       "364  False  \n",
       "\n",
       "[365 rows x 18 columns]"
      ]
     },
     "execution_count": 4,
     "metadata": {},
     "output_type": "execute_result"
    }
   ],
   "source": [
    "# check for null values in each column\n",
    "data.isnull()"
   ]
  },
  {
   "cell_type": "code",
   "execution_count": 5,
   "metadata": {
    "colab": {},
    "colab_type": "code",
    "id": "jWJz8TAgketK"
   },
   "outputs": [
    {
     "name": "stdout",
     "output_type": "stream",
     "text": [
      "[winter, spring, summer, autumn]\n",
      "Categories (4, object): [winter, spring, summer, autumn]\n",
      "[2016]\n",
      "[cloud, fair, rain]\n",
      "Categories (3, object): [cloud, fair, rain]\n",
      "[1 0]\n"
     ]
    }
   ],
   "source": [
    "# print out the unique values of the features ['season', 'year', 'weather', 'promotion_type']\n",
    "print(data.season.unique())\n",
    "print(data.year.unique())\n",
    "print(data.weather.unique())\n",
    "print(data.promotion_type.unique())\n"
   ]
  },
  {
   "cell_type": "code",
   "execution_count": 6,
   "metadata": {
    "colab": {},
    "colab_type": "code",
    "id": "1nkDe68NkyZ2"
   },
   "outputs": [
    {
     "name": "stdout",
     "output_type": "stream",
     "text": [
      "summer    92\n",
      "spring    92\n",
      "autumn    91\n",
      "winter    90\n",
      "Name: season, dtype: int64\n",
      "2016    365\n",
      "Name: year, dtype: int64\n",
      "fair     226\n",
      "cloud    124\n",
      "rain      15\n",
      "Name: weather, dtype: int64\n",
      "1    183\n",
      "0    182\n",
      "Name: promotion_type, dtype: int64\n"
     ]
    }
   ],
   "source": [
    "# print out the value counts (frequency of occurence) of the unique values in these features ['season', 'year', 'weather', 'promotion_type']\n",
    "print(data.season.value_counts())\n",
    "print(data.year.value_counts())\n",
    "print(data.weather.value_counts())\n",
    "print(data.promotion_type.value_counts())\n"
   ]
  },
  {
   "cell_type": "code",
   "execution_count": 7,
   "metadata": {
    "colab": {},
    "colab_type": "code",
    "id": "yIsIIQWFmJRK"
   },
   "outputs": [
    {
     "data": {
      "text/plain": [
       "(365, 18)"
      ]
     },
     "execution_count": 7,
     "metadata": {},
     "output_type": "execute_result"
    }
   ],
   "source": [
    "# print the shape of data\n",
    "data.shape"
   ]
  },
  {
   "cell_type": "code",
   "execution_count": 8,
   "metadata": {
    "colab": {},
    "colab_type": "code",
    "id": "1xXsOHMilNTz"
   },
   "outputs": [],
   "source": [
    "# drop the feature 'id' as it has no information to deliver.\n",
    "\n",
    "data = data.drop('id', axis = 1)\n",
    "data = data.drop('year', axis = 1)\n"
   ]
  },
  {
   "cell_type": "code",
   "execution_count": 9,
   "metadata": {
    "colab": {},
    "colab_type": "code",
    "id": "i4BXZ-_qmNYh"
   },
   "outputs": [
    {
     "name": "stdout",
     "output_type": "stream",
     "text": [
      "(365, 16)\n"
     ]
    },
    {
     "data": {
      "text/html": [
       "<div>\n",
       "<style scoped>\n",
       "    .dataframe tbody tr th:only-of-type {\n",
       "        vertical-align: middle;\n",
       "    }\n",
       "\n",
       "    .dataframe tbody tr th {\n",
       "        vertical-align: top;\n",
       "    }\n",
       "\n",
       "    .dataframe thead th {\n",
       "        text-align: right;\n",
       "    }\n",
       "</style>\n",
       "<table border=\"1\" class=\"dataframe\">\n",
       "  <thead>\n",
       "    <tr style=\"text-align: right;\">\n",
       "      <th></th>\n",
       "      <th>season</th>\n",
       "      <th>holiday</th>\n",
       "      <th>weekday</th>\n",
       "      <th>workingday</th>\n",
       "      <th>weather</th>\n",
       "      <th>temp</th>\n",
       "      <th>feel_temp</th>\n",
       "      <th>hum</th>\n",
       "      <th>windspeed</th>\n",
       "      <th>promotion_level</th>\n",
       "      <th>promotion_type</th>\n",
       "      <th>promotion_level_external</th>\n",
       "      <th>promotion_type_external</th>\n",
       "      <th>casual</th>\n",
       "      <th>registered</th>\n",
       "      <th>cnt</th>\n",
       "    </tr>\n",
       "  </thead>\n",
       "  <tbody>\n",
       "    <tr>\n",
       "      <th>0</th>\n",
       "      <td>winter</td>\n",
       "      <td>0</td>\n",
       "      <td>6</td>\n",
       "      <td>0</td>\n",
       "      <td>cloud</td>\n",
       "      <td>0.344167</td>\n",
       "      <td>0.363625</td>\n",
       "      <td>0.805833</td>\n",
       "      <td>0.160446</td>\n",
       "      <td>7</td>\n",
       "      <td>1</td>\n",
       "      <td>2</td>\n",
       "      <td>2</td>\n",
       "      <td>226</td>\n",
       "      <td>654</td>\n",
       "      <td>880</td>\n",
       "    </tr>\n",
       "    <tr>\n",
       "      <th>1</th>\n",
       "      <td>winter</td>\n",
       "      <td>0</td>\n",
       "      <td>0</td>\n",
       "      <td>0</td>\n",
       "      <td>cloud</td>\n",
       "      <td>0.363478</td>\n",
       "      <td>0.353739</td>\n",
       "      <td>0.696087</td>\n",
       "      <td>0.248539</td>\n",
       "      <td>8</td>\n",
       "      <td>1</td>\n",
       "      <td>8</td>\n",
       "      <td>1</td>\n",
       "      <td>125</td>\n",
       "      <td>670</td>\n",
       "      <td>795</td>\n",
       "    </tr>\n",
       "    <tr>\n",
       "      <th>2</th>\n",
       "      <td>winter</td>\n",
       "      <td>0</td>\n",
       "      <td>1</td>\n",
       "      <td>1</td>\n",
       "      <td>fair</td>\n",
       "      <td>0.196364</td>\n",
       "      <td>0.189405</td>\n",
       "      <td>0.437273</td>\n",
       "      <td>0.248309</td>\n",
       "      <td>3</td>\n",
       "      <td>1</td>\n",
       "      <td>10</td>\n",
       "      <td>2</td>\n",
       "      <td>75</td>\n",
       "      <td>1229</td>\n",
       "      <td>1304</td>\n",
       "    </tr>\n",
       "    <tr>\n",
       "      <th>3</th>\n",
       "      <td>winter</td>\n",
       "      <td>0</td>\n",
       "      <td>2</td>\n",
       "      <td>1</td>\n",
       "      <td>fair</td>\n",
       "      <td>0.200000</td>\n",
       "      <td>0.212122</td>\n",
       "      <td>0.590435</td>\n",
       "      <td>0.160296</td>\n",
       "      <td>0</td>\n",
       "      <td>1</td>\n",
       "      <td>8</td>\n",
       "      <td>3</td>\n",
       "      <td>67</td>\n",
       "      <td>1454</td>\n",
       "      <td>1521</td>\n",
       "    </tr>\n",
       "    <tr>\n",
       "      <th>4</th>\n",
       "      <td>winter</td>\n",
       "      <td>0</td>\n",
       "      <td>3</td>\n",
       "      <td>1</td>\n",
       "      <td>fair</td>\n",
       "      <td>0.226957</td>\n",
       "      <td>0.229270</td>\n",
       "      <td>0.436957</td>\n",
       "      <td>0.186900</td>\n",
       "      <td>2</td>\n",
       "      <td>0</td>\n",
       "      <td>5</td>\n",
       "      <td>1</td>\n",
       "      <td>58</td>\n",
       "      <td>1518</td>\n",
       "      <td>1576</td>\n",
       "    </tr>\n",
       "  </tbody>\n",
       "</table>\n",
       "</div>"
      ],
      "text/plain": [
       "   season  holiday  weekday  workingday weather      temp  feel_temp  \\\n",
       "0  winter        0        6           0   cloud  0.344167   0.363625   \n",
       "1  winter        0        0           0   cloud  0.363478   0.353739   \n",
       "2  winter        0        1           1    fair  0.196364   0.189405   \n",
       "3  winter        0        2           1    fair  0.200000   0.212122   \n",
       "4  winter        0        3           1    fair  0.226957   0.229270   \n",
       "\n",
       "        hum  windspeed  promotion_level  promotion_type  \\\n",
       "0  0.805833   0.160446                7               1   \n",
       "1  0.696087   0.248539                8               1   \n",
       "2  0.437273   0.248309                3               1   \n",
       "3  0.590435   0.160296                0               1   \n",
       "4  0.436957   0.186900                2               0   \n",
       "\n",
       "   promotion_level_external  promotion_type_external  casual  registered   cnt  \n",
       "0                         2                        2     226         654   880  \n",
       "1                         8                        1     125         670   795  \n",
       "2                        10                        2      75        1229  1304  \n",
       "3                         8                        3      67        1454  1521  \n",
       "4                         5                        1      58        1518  1576  "
      ]
     },
     "execution_count": 9,
     "metadata": {},
     "output_type": "execute_result"
    }
   ],
   "source": [
    "# print the shape of data\n",
    "print(data.shape)\n",
    "data.head(5)"
   ]
  },
  {
   "cell_type": "code",
   "execution_count": 10,
   "metadata": {
    "colab": {},
    "colab_type": "code",
    "id": "1G-eQ8ULmO3J"
   },
   "outputs": [
    {
     "data": {
      "text/html": [
       "<div>\n",
       "<style scoped>\n",
       "    .dataframe tbody tr th:only-of-type {\n",
       "        vertical-align: middle;\n",
       "    }\n",
       "\n",
       "    .dataframe tbody tr th {\n",
       "        vertical-align: top;\n",
       "    }\n",
       "\n",
       "    .dataframe thead th {\n",
       "        text-align: right;\n",
       "    }\n",
       "</style>\n",
       "<table border=\"1\" class=\"dataframe\">\n",
       "  <thead>\n",
       "    <tr style=\"text-align: right;\">\n",
       "      <th></th>\n",
       "      <th>season</th>\n",
       "      <th>holiday</th>\n",
       "      <th>weekday</th>\n",
       "      <th>workingday</th>\n",
       "      <th>weather</th>\n",
       "      <th>temp</th>\n",
       "      <th>feel_temp</th>\n",
       "      <th>hum</th>\n",
       "      <th>windspeed</th>\n",
       "      <th>promotion_level</th>\n",
       "      <th>promotion_type</th>\n",
       "      <th>promotion_level_external</th>\n",
       "      <th>promotion_type_external</th>\n",
       "      <th>casual</th>\n",
       "      <th>registered</th>\n",
       "      <th>cnt</th>\n",
       "    </tr>\n",
       "  </thead>\n",
       "  <tbody>\n",
       "    <tr>\n",
       "      <th>0</th>\n",
       "      <td>winter</td>\n",
       "      <td>0</td>\n",
       "      <td>6</td>\n",
       "      <td>0</td>\n",
       "      <td>cloud</td>\n",
       "      <td>0.344167</td>\n",
       "      <td>0.363625</td>\n",
       "      <td>0.805833</td>\n",
       "      <td>0.160446</td>\n",
       "      <td>7</td>\n",
       "      <td>1</td>\n",
       "      <td>2</td>\n",
       "      <td>2</td>\n",
       "      <td>226</td>\n",
       "      <td>654</td>\n",
       "      <td>880</td>\n",
       "    </tr>\n",
       "    <tr>\n",
       "      <th>1</th>\n",
       "      <td>winter</td>\n",
       "      <td>0</td>\n",
       "      <td>0</td>\n",
       "      <td>0</td>\n",
       "      <td>cloud</td>\n",
       "      <td>0.363478</td>\n",
       "      <td>0.353739</td>\n",
       "      <td>0.696087</td>\n",
       "      <td>0.248539</td>\n",
       "      <td>8</td>\n",
       "      <td>1</td>\n",
       "      <td>8</td>\n",
       "      <td>1</td>\n",
       "      <td>125</td>\n",
       "      <td>670</td>\n",
       "      <td>795</td>\n",
       "    </tr>\n",
       "    <tr>\n",
       "      <th>2</th>\n",
       "      <td>winter</td>\n",
       "      <td>0</td>\n",
       "      <td>1</td>\n",
       "      <td>1</td>\n",
       "      <td>fair</td>\n",
       "      <td>0.196364</td>\n",
       "      <td>0.189405</td>\n",
       "      <td>0.437273</td>\n",
       "      <td>0.248309</td>\n",
       "      <td>3</td>\n",
       "      <td>1</td>\n",
       "      <td>10</td>\n",
       "      <td>2</td>\n",
       "      <td>75</td>\n",
       "      <td>1229</td>\n",
       "      <td>1304</td>\n",
       "    </tr>\n",
       "    <tr>\n",
       "      <th>3</th>\n",
       "      <td>winter</td>\n",
       "      <td>0</td>\n",
       "      <td>2</td>\n",
       "      <td>1</td>\n",
       "      <td>fair</td>\n",
       "      <td>0.200000</td>\n",
       "      <td>0.212122</td>\n",
       "      <td>0.590435</td>\n",
       "      <td>0.160296</td>\n",
       "      <td>0</td>\n",
       "      <td>1</td>\n",
       "      <td>8</td>\n",
       "      <td>3</td>\n",
       "      <td>67</td>\n",
       "      <td>1454</td>\n",
       "      <td>1521</td>\n",
       "    </tr>\n",
       "    <tr>\n",
       "      <th>4</th>\n",
       "      <td>winter</td>\n",
       "      <td>0</td>\n",
       "      <td>3</td>\n",
       "      <td>1</td>\n",
       "      <td>fair</td>\n",
       "      <td>0.226957</td>\n",
       "      <td>0.229270</td>\n",
       "      <td>0.436957</td>\n",
       "      <td>0.186900</td>\n",
       "      <td>2</td>\n",
       "      <td>0</td>\n",
       "      <td>5</td>\n",
       "      <td>1</td>\n",
       "      <td>58</td>\n",
       "      <td>1518</td>\n",
       "      <td>1576</td>\n",
       "    </tr>\n",
       "    <tr>\n",
       "      <th>5</th>\n",
       "      <td>winter</td>\n",
       "      <td>0</td>\n",
       "      <td>4</td>\n",
       "      <td>1</td>\n",
       "      <td>fair</td>\n",
       "      <td>0.204348</td>\n",
       "      <td>0.233209</td>\n",
       "      <td>0.518261</td>\n",
       "      <td>0.089565</td>\n",
       "      <td>0</td>\n",
       "      <td>0</td>\n",
       "      <td>10</td>\n",
       "      <td>3</td>\n",
       "      <td>63</td>\n",
       "      <td>1518</td>\n",
       "      <td>1581</td>\n",
       "    </tr>\n",
       "    <tr>\n",
       "      <th>6</th>\n",
       "      <td>winter</td>\n",
       "      <td>0</td>\n",
       "      <td>5</td>\n",
       "      <td>1</td>\n",
       "      <td>cloud</td>\n",
       "      <td>0.196522</td>\n",
       "      <td>0.208839</td>\n",
       "      <td>0.498696</td>\n",
       "      <td>0.168726</td>\n",
       "      <td>4</td>\n",
       "      <td>1</td>\n",
       "      <td>3</td>\n",
       "      <td>3</td>\n",
       "      <td>88</td>\n",
       "      <td>1362</td>\n",
       "      <td>1450</td>\n",
       "    </tr>\n",
       "    <tr>\n",
       "      <th>7</th>\n",
       "      <td>winter</td>\n",
       "      <td>0</td>\n",
       "      <td>6</td>\n",
       "      <td>0</td>\n",
       "      <td>cloud</td>\n",
       "      <td>0.165000</td>\n",
       "      <td>0.162254</td>\n",
       "      <td>0.535833</td>\n",
       "      <td>0.266804</td>\n",
       "      <td>6</td>\n",
       "      <td>1</td>\n",
       "      <td>9</td>\n",
       "      <td>1</td>\n",
       "      <td>78</td>\n",
       "      <td>891</td>\n",
       "      <td>969</td>\n",
       "    </tr>\n",
       "    <tr>\n",
       "      <th>8</th>\n",
       "      <td>winter</td>\n",
       "      <td>0</td>\n",
       "      <td>0</td>\n",
       "      <td>0</td>\n",
       "      <td>fair</td>\n",
       "      <td>0.138333</td>\n",
       "      <td>0.116175</td>\n",
       "      <td>0.434167</td>\n",
       "      <td>0.361950</td>\n",
       "      <td>5</td>\n",
       "      <td>1</td>\n",
       "      <td>8</td>\n",
       "      <td>0</td>\n",
       "      <td>70</td>\n",
       "      <td>768</td>\n",
       "      <td>838</td>\n",
       "    </tr>\n",
       "    <tr>\n",
       "      <th>9</th>\n",
       "      <td>winter</td>\n",
       "      <td>0</td>\n",
       "      <td>1</td>\n",
       "      <td>1</td>\n",
       "      <td>fair</td>\n",
       "      <td>0.150833</td>\n",
       "      <td>0.150888</td>\n",
       "      <td>0.482917</td>\n",
       "      <td>0.223267</td>\n",
       "      <td>4</td>\n",
       "      <td>0</td>\n",
       "      <td>2</td>\n",
       "      <td>2</td>\n",
       "      <td>30</td>\n",
       "      <td>1280</td>\n",
       "      <td>1310</td>\n",
       "    </tr>\n",
       "  </tbody>\n",
       "</table>\n",
       "</div>"
      ],
      "text/plain": [
       "   season  holiday  weekday  workingday weather      temp  feel_temp  \\\n",
       "0  winter        0        6           0   cloud  0.344167   0.363625   \n",
       "1  winter        0        0           0   cloud  0.363478   0.353739   \n",
       "2  winter        0        1           1    fair  0.196364   0.189405   \n",
       "3  winter        0        2           1    fair  0.200000   0.212122   \n",
       "4  winter        0        3           1    fair  0.226957   0.229270   \n",
       "5  winter        0        4           1    fair  0.204348   0.233209   \n",
       "6  winter        0        5           1   cloud  0.196522   0.208839   \n",
       "7  winter        0        6           0   cloud  0.165000   0.162254   \n",
       "8  winter        0        0           0    fair  0.138333   0.116175   \n",
       "9  winter        0        1           1    fair  0.150833   0.150888   \n",
       "\n",
       "        hum  windspeed  promotion_level  promotion_type  \\\n",
       "0  0.805833   0.160446                7               1   \n",
       "1  0.696087   0.248539                8               1   \n",
       "2  0.437273   0.248309                3               1   \n",
       "3  0.590435   0.160296                0               1   \n",
       "4  0.436957   0.186900                2               0   \n",
       "5  0.518261   0.089565                0               0   \n",
       "6  0.498696   0.168726                4               1   \n",
       "7  0.535833   0.266804                6               1   \n",
       "8  0.434167   0.361950                5               1   \n",
       "9  0.482917   0.223267                4               0   \n",
       "\n",
       "   promotion_level_external  promotion_type_external  casual  registered   cnt  \n",
       "0                         2                        2     226         654   880  \n",
       "1                         8                        1     125         670   795  \n",
       "2                        10                        2      75        1229  1304  \n",
       "3                         8                        3      67        1454  1521  \n",
       "4                         5                        1      58        1518  1576  \n",
       "5                        10                        3      63        1518  1581  \n",
       "6                         3                        3      88        1362  1450  \n",
       "7                         9                        1      78         891   969  \n",
       "8                         8                        0      70         768   838  \n",
       "9                         2                        2      30        1280  1310  "
      ]
     },
     "execution_count": 10,
     "metadata": {},
     "output_type": "execute_result"
    }
   ],
   "source": [
    "# one hot encode the categorical columns.\n",
    "a=pd.get_dummies(data['season'],prefix=\"season\")\n",
    "b=pd.get_dummies(data['weather'],prefix=\"weather\")\n",
    "c=pd.get_dummies(data['promotion_type'],prefix=\"promotion_type\")\n",
    "data.head(10)"
   ]
  },
  {
   "cell_type": "code",
   "execution_count": 11,
   "metadata": {},
   "outputs": [],
   "source": [
    "data=pd.concat([data,a,b,c],axis=1)"
   ]
  },
  {
   "cell_type": "code",
   "execution_count": 14,
   "metadata": {},
   "outputs": [
    {
     "data": {
      "text/plain": [
       "Index(['holiday', 'weekday', 'workingday', 'temp', 'feel_temp', 'hum',\n",
       "       'windspeed', 'promotion_level', 'promotion_level_external',\n",
       "       'promotion_type_external', 'casual', 'registered', 'cnt',\n",
       "       'season_autumn', 'season_spring', 'season_summer', 'season_winter',\n",
       "       'weather_cloud', 'weather_fair', 'weather_rain', 'promotion_type_0',\n",
       "       'promotion_type_1'],\n",
       "      dtype='object')"
      ]
     },
     "execution_count": 14,
     "metadata": {},
     "output_type": "execute_result"
    }
   ],
   "source": [
    "data.head(10)\n",
    "data.columns"
   ]
  },
  {
   "cell_type": "code",
   "execution_count": 13,
   "metadata": {
    "colab": {},
    "colab_type": "code",
    "id": "qcf6heimmZaQ"
   },
   "outputs": [
    {
     "data": {
      "text/plain": [
       "(365, 22)"
      ]
     },
     "execution_count": 13,
     "metadata": {},
     "output_type": "execute_result"
    }
   ],
   "source": [
    "# print the shape of data \n",
    "# notice the increase in the no. of features\n",
    "data = data.drop('weather', axis = 1)\n",
    "data = data.drop('season', axis = 1)\n",
    "data = data.drop('promotion_type', axis = 1)\n",
    "data.shape"
   ]
  },
  {
   "cell_type": "markdown",
   "metadata": {
    "colab_type": "text",
    "id": "vLOkfanFfWDK"
   },
   "source": [
    "Notice that our target feature \"cnt\" is the sum of the features \"registered\" + \"casual\"<br>\n",
    "\n",
    "To avoid data leakage remove the feature \"casual\" for the training purpose. <br>\n",
    "\n",
    "To understand more about data leakage refer the article mentioned in the uselful links."
   ]
  },
  {
   "cell_type": "code",
   "execution_count": 19,
   "metadata": {
    "colab": {},
    "colab_type": "code",
    "id": "vZ2HK7RGmO63"
   },
   "outputs": [],
   "source": [
    "# Split the dataset into X and y\n",
    "# While loading data into X drop the columns \"cnt\" and \"casual\". \n",
    "X = data[['holiday', 'weekday', 'workingday', 'temp', 'feel_temp', 'hum','windspeed', 'promotion_level', 'promotion_level_external','promotion_type_external', 'registered','season_autumn', 'season_spring', 'season_summer', 'season_winter','weather_cloud', 'weather_fair', 'weather_rain', 'promotion_type_0','promotion_type_1']]\n",
    "\n",
    "# notice the target variable is 'cnt'\n",
    "y = data['cnt']"
   ]
  },
  {
   "cell_type": "code",
   "execution_count": 20,
   "metadata": {
    "colab": {},
    "colab_type": "code",
    "id": "y1kT6PpR4F1s"
   },
   "outputs": [
    {
     "name": "stdout",
     "output_type": "stream",
     "text": [
      "['holiday', 'weekday', 'workingday', 'temp', 'feel_temp', 'hum', 'windspeed', 'promotion_level', 'promotion_level_external', 'promotion_type_external', 'registered', 'season_autumn', 'season_spring', 'season_summer', 'season_winter', 'weather_cloud', 'weather_fair', 'weather_rain', 'promotion_type_0', 'promotion_type_1']\n"
     ]
    }
   ],
   "source": [
    "# store the names of the training features / name of the columns used for training. [Very important step for visualization later.]\n",
    "\n",
    "train_columns = list(X.columns)\n",
    "print(train_columns)"
   ]
  },
  {
   "cell_type": "code",
   "execution_count": 21,
   "metadata": {
    "colab": {},
    "colab_type": "code",
    "id": "6blYZrz7mPBG"
   },
   "outputs": [
    {
     "name": "stderr",
     "output_type": "stream",
     "text": [
      "<ipython-input-21-d6ba98aca9ec>:4: SettingWithCopyWarning: \n",
      "A value is trying to be set on a copy of a slice from a DataFrame.\n",
      "Try using .loc[row_indexer,col_indexer] = value instead\n",
      "\n",
      "See the caveats in the documentation: https://pandas.pydata.org/pandas-docs/stable/user_guide/indexing.html#returning-a-view-versus-a-copy\n",
      "  X[i]= (X[i]- X[i].min())/(X[i].max()-X[i].min())\n"
     ]
    }
   ],
   "source": [
    "# Apply scaling if our data is spread across wide differences of range values.\n",
    "cols= ['temp', 'feel_temp', 'hum', 'windspeed', 'promotion_level', 'promotion_level_external', 'promotion_type_external', 'registered']\n",
    "for i in cols:\n",
    "    X[i]= (X[i]- X[i].min())/(X[i].max()-X[i].min())"
   ]
  },
  {
   "cell_type": "code",
   "execution_count": 23,
   "metadata": {
    "colab": {},
    "colab_type": "code",
    "id": "Feyrb90p3qf8"
   },
   "outputs": [
    {
     "data": {
      "text/plain": [
       "pandas.core.frame.DataFrame"
      ]
     },
     "execution_count": 23,
     "metadata": {},
     "output_type": "execute_result"
    }
   ],
   "source": [
    "# print the type of X\n",
    "X.head(5)\n",
    "type(X)"
   ]
  },
  {
   "cell_type": "markdown",
   "metadata": {
    "colab_type": "text",
    "id": "Jtau8HV73t7Y"
   },
   "source": [
    "Note : <br>\n",
    "Type of X should be pandas dataframe.\n",
    "If not then convert X into pandas DataFrame object before proceeding further.\n"
   ]
  },
  {
   "cell_type": "code",
   "execution_count": 24,
   "metadata": {
    "colab": {},
    "colab_type": "code",
    "id": "V5II0AWy4AHK"
   },
   "outputs": [
    {
     "data": {
      "text/html": [
       "<div>\n",
       "<style scoped>\n",
       "    .dataframe tbody tr th:only-of-type {\n",
       "        vertical-align: middle;\n",
       "    }\n",
       "\n",
       "    .dataframe tbody tr th {\n",
       "        vertical-align: top;\n",
       "    }\n",
       "\n",
       "    .dataframe thead th {\n",
       "        text-align: right;\n",
       "    }\n",
       "</style>\n",
       "<table border=\"1\" class=\"dataframe\">\n",
       "  <thead>\n",
       "    <tr style=\"text-align: right;\">\n",
       "      <th></th>\n",
       "      <th>holiday</th>\n",
       "      <th>weekday</th>\n",
       "      <th>workingday</th>\n",
       "      <th>temp</th>\n",
       "      <th>feel_temp</th>\n",
       "      <th>hum</th>\n",
       "      <th>windspeed</th>\n",
       "      <th>promotion_level</th>\n",
       "      <th>promotion_level_external</th>\n",
       "      <th>promotion_type_external</th>\n",
       "      <th>registered</th>\n",
       "      <th>season_autumn</th>\n",
       "      <th>season_spring</th>\n",
       "      <th>season_summer</th>\n",
       "      <th>season_winter</th>\n",
       "      <th>weather_cloud</th>\n",
       "      <th>weather_fair</th>\n",
       "      <th>weather_rain</th>\n",
       "      <th>promotion_type_0</th>\n",
       "      <th>promotion_type_1</th>\n",
       "    </tr>\n",
       "  </thead>\n",
       "  <tbody>\n",
       "    <tr>\n",
       "      <th>0</th>\n",
       "      <td>0</td>\n",
       "      <td>6</td>\n",
       "      <td>0</td>\n",
       "      <td>0.360789</td>\n",
       "      <td>0.373517</td>\n",
       "      <td>0.828620</td>\n",
       "      <td>0.284606</td>\n",
       "      <td>0.777778</td>\n",
       "      <td>0.111111</td>\n",
       "      <td>0.666667</td>\n",
       "      <td>0.056694</td>\n",
       "      <td>0</td>\n",
       "      <td>0</td>\n",
       "      <td>0</td>\n",
       "      <td>1</td>\n",
       "      <td>1</td>\n",
       "      <td>0</td>\n",
       "      <td>0</td>\n",
       "      <td>0</td>\n",
       "      <td>1</td>\n",
       "    </tr>\n",
       "    <tr>\n",
       "      <th>1</th>\n",
       "      <td>0</td>\n",
       "      <td>0</td>\n",
       "      <td>0</td>\n",
       "      <td>0.385232</td>\n",
       "      <td>0.360541</td>\n",
       "      <td>0.715771</td>\n",
       "      <td>0.466215</td>\n",
       "      <td>0.888889</td>\n",
       "      <td>0.777778</td>\n",
       "      <td>0.333333</td>\n",
       "      <td>0.060505</td>\n",
       "      <td>0</td>\n",
       "      <td>0</td>\n",
       "      <td>0</td>\n",
       "      <td>1</td>\n",
       "      <td>1</td>\n",
       "      <td>0</td>\n",
       "      <td>0</td>\n",
       "      <td>0</td>\n",
       "      <td>1</td>\n",
       "    </tr>\n",
       "    <tr>\n",
       "      <th>2</th>\n",
       "      <td>0</td>\n",
       "      <td>1</td>\n",
       "      <td>1</td>\n",
       "      <td>0.173705</td>\n",
       "      <td>0.144830</td>\n",
       "      <td>0.449638</td>\n",
       "      <td>0.465740</td>\n",
       "      <td>0.333333</td>\n",
       "      <td>1.000000</td>\n",
       "      <td>0.666667</td>\n",
       "      <td>0.193664</td>\n",
       "      <td>0</td>\n",
       "      <td>0</td>\n",
       "      <td>0</td>\n",
       "      <td>1</td>\n",
       "      <td>0</td>\n",
       "      <td>1</td>\n",
       "      <td>0</td>\n",
       "      <td>0</td>\n",
       "      <td>1</td>\n",
       "    </tr>\n",
       "    <tr>\n",
       "      <th>3</th>\n",
       "      <td>0</td>\n",
       "      <td>2</td>\n",
       "      <td>1</td>\n",
       "      <td>0.178308</td>\n",
       "      <td>0.174649</td>\n",
       "      <td>0.607131</td>\n",
       "      <td>0.284297</td>\n",
       "      <td>0.000000</td>\n",
       "      <td>0.777778</td>\n",
       "      <td>1.000000</td>\n",
       "      <td>0.247261</td>\n",
       "      <td>0</td>\n",
       "      <td>0</td>\n",
       "      <td>0</td>\n",
       "      <td>1</td>\n",
       "      <td>0</td>\n",
       "      <td>1</td>\n",
       "      <td>0</td>\n",
       "      <td>0</td>\n",
       "      <td>1</td>\n",
       "    </tr>\n",
       "    <tr>\n",
       "      <th>4</th>\n",
       "      <td>0</td>\n",
       "      <td>3</td>\n",
       "      <td>1</td>\n",
       "      <td>0.212429</td>\n",
       "      <td>0.197158</td>\n",
       "      <td>0.449313</td>\n",
       "      <td>0.339143</td>\n",
       "      <td>0.222222</td>\n",
       "      <td>0.444444</td>\n",
       "      <td>0.333333</td>\n",
       "      <td>0.262506</td>\n",
       "      <td>0</td>\n",
       "      <td>0</td>\n",
       "      <td>0</td>\n",
       "      <td>1</td>\n",
       "      <td>0</td>\n",
       "      <td>1</td>\n",
       "      <td>0</td>\n",
       "      <td>1</td>\n",
       "      <td>0</td>\n",
       "    </tr>\n",
       "  </tbody>\n",
       "</table>\n",
       "</div>"
      ],
      "text/plain": [
       "   holiday  weekday  workingday      temp  feel_temp       hum  windspeed  \\\n",
       "0        0        6           0  0.360789   0.373517  0.828620   0.284606   \n",
       "1        0        0           0  0.385232   0.360541  0.715771   0.466215   \n",
       "2        0        1           1  0.173705   0.144830  0.449638   0.465740   \n",
       "3        0        2           1  0.178308   0.174649  0.607131   0.284297   \n",
       "4        0        3           1  0.212429   0.197158  0.449313   0.339143   \n",
       "\n",
       "   promotion_level  promotion_level_external  promotion_type_external  \\\n",
       "0         0.777778                  0.111111                 0.666667   \n",
       "1         0.888889                  0.777778                 0.333333   \n",
       "2         0.333333                  1.000000                 0.666667   \n",
       "3         0.000000                  0.777778                 1.000000   \n",
       "4         0.222222                  0.444444                 0.333333   \n",
       "\n",
       "   registered  season_autumn  season_spring  season_summer  season_winter  \\\n",
       "0    0.056694              0              0              0              1   \n",
       "1    0.060505              0              0              0              1   \n",
       "2    0.193664              0              0              0              1   \n",
       "3    0.247261              0              0              0              1   \n",
       "4    0.262506              0              0              0              1   \n",
       "\n",
       "   weather_cloud  weather_fair  weather_rain  promotion_type_0  \\\n",
       "0              1             0             0                 0   \n",
       "1              1             0             0                 0   \n",
       "2              0             1             0                 0   \n",
       "3              0             1             0                 0   \n",
       "4              0             1             0                 1   \n",
       "\n",
       "   promotion_type_1  \n",
       "0                 1  \n",
       "1                 1  \n",
       "2                 1  \n",
       "3                 1  \n",
       "4                 0  "
      ]
     },
     "execution_count": 24,
     "metadata": {},
     "output_type": "execute_result"
    }
   ],
   "source": [
    "# convert X into pandas Dataframe\n",
    "# in the parameters specify columns = train_columns.\n",
    "\n",
    "X = pd.DataFrame(X, columns = train_columns)\n",
    "X.head()"
   ]
  },
  {
   "cell_type": "code",
   "execution_count": 27,
   "metadata": {
    "colab": {},
    "colab_type": "code",
    "id": "Ad4MfGe1mPDk"
   },
   "outputs": [],
   "source": [
    "# split the dataset into X_train, X_test, y_train, y_test\n",
    "# play around with test sizes.\n",
    "\n",
    "test_size = 0.25\n",
    "X_train, X_test, y_train, y_test = train_test_split(X,y,test_size=0.25,random_state=42)"
   ]
  },
  {
   "cell_type": "code",
   "execution_count": 28,
   "metadata": {
    "colab": {},
    "colab_type": "code",
    "id": "6czlxW2tnQqP"
   },
   "outputs": [
    {
     "name": "stdout",
     "output_type": "stream",
     "text": [
      "(273, 20)\n",
      "(92, 20)\n",
      "(273,)\n",
      "(92,)\n"
     ]
    }
   ],
   "source": [
    "# print the shapes\n",
    "print(X_train.shape)\n",
    "print(X_test.shape)\n",
    "print(y_train.shape)\n",
    "print(y_test.shape)"
   ]
  },
  {
   "cell_type": "code",
   "execution_count": 30,
   "metadata": {
    "colab": {},
    "colab_type": "code",
    "id": "w-lp9O74nUm7"
   },
   "outputs": [
    {
     "data": {
      "text/plain": [
       "LinearRegression()"
      ]
     },
     "execution_count": 30,
     "metadata": {},
     "output_type": "execute_result"
    }
   ],
   "source": [
    "# build the Linear Regression model.\n",
    "\n",
    "model = LinearRegression()\n",
    "\n",
    "# fit the model on the training data\n",
    "model.fit(X_train, y_train)"
   ]
  },
  {
   "cell_type": "code",
   "execution_count": 32,
   "metadata": {
    "colab": {},
    "colab_type": "code",
    "id": "Ga_f-66JoVri"
   },
   "outputs": [
    {
     "name": "stdout",
     "output_type": "stream",
     "text": [
      "On Training set :  0.986513530066357\n"
     ]
    }
   ],
   "source": [
    "# print the score on training set\n",
    "y_pred_train = model.predict(X_train)\n",
    "print(\"On Training set : \", r2_score(y_train, y_pred_train))"
   ]
  },
  {
   "cell_type": "code",
   "execution_count": 34,
   "metadata": {
    "colab": {},
    "colab_type": "code",
    "id": "IKmlrtpDoilu"
   },
   "outputs": [
    {
     "name": "stdout",
     "output_type": "stream",
     "text": [
      "On testing set :  0.987344797800068\n"
     ]
    }
   ],
   "source": [
    "# print the score on the test set\n",
    "y_pred_test = model.predict(X_test)\n",
    "print(\"On testing set : \", r2_score(y_test, y_pred_test))"
   ]
  },
  {
   "cell_type": "markdown",
   "metadata": {
    "colab_type": "text",
    "id": "cYyTP91_pB-u"
   },
   "source": [
    "Do not edit the code given below. Observe the distribution of weights. \n",
    "Which feature has the maximum coefficient ? <br>\n",
    "Keep this figure as a base reference for visualizing the effects of l1-norm and l2-norm later in this notebook."
   ]
  },
  {
   "cell_type": "code",
   "execution_count": 36,
   "metadata": {
    "colab": {},
    "colab_type": "code",
    "id": "Ck8Vx1bWozcf"
   },
   "outputs": [],
   "source": [
    "# custom summary function to plot the coefficients / weightage of the features.\n",
    "def custom_summary(model, column_names, title):\n",
    "    '''Show a summary of the trained linear regression model'''\n",
    "\n",
    "    # Plot the coeffients as bars\n",
    "    fig = plt.figure(figsize=(8,len(column_names)/3))\n",
    "    fig.suptitle(title, fontsize=16)\n",
    "    rects = plt.barh(column_names, model.coef_,color=\"lightblue\")\n",
    "\n",
    "    # Annotate the bars with the coefficient values\n",
    "    for rect in rects:\n",
    "        width = round(rect.get_width(),4)\n",
    "        plt.gca().annotate('  {}  '.format(width),\n",
    "                    xy=(0, rect.get_y()),\n",
    "                    xytext=(0,2),  \n",
    "                    textcoords=\"offset points\",  \n",
    "                    ha='left' if width<0 else 'right', va='bottom')        \n",
    "    plt.show()"
   ]
  },
  {
   "cell_type": "code",
   "execution_count": 37,
   "metadata": {
    "colab": {},
    "colab_type": "code",
    "id": "QuyEBDrYotzb"
   },
   "outputs": [
    {
     "data": {
      "image/png": "[encoded data removed]",
      "text/plain": [
       "<Figure size 576x480 with 1 Axes>"
      ]
     },
     "metadata": {
      "needs_background": "light"
     },
     "output_type": "display_data"
    }
   ],
   "source": [
    "# coefficients plot\n",
    "# let's call the above custom function.\n",
    "\n",
    "custom_summary(model, train_columns, \"Linear Regression coefficients.\")"
   ]
  },
  {
   "cell_type": "code",
   "execution_count": 46,
   "metadata": {
    "colab": {},
    "colab_type": "code",
    "id": "E77vWyd7plQ2"
   },
   "outputs": [
    {
     "name": "stdout",
     "output_type": "stream",
     "text": [
      "LinearRegression\n",
      "kFoldCV:\n",
      "Fold R2 scores: [0.98768532 0.99265086 0.98379617 0.96978406 0.98632629 0.99056935\n",
      " 0.97901286 0.98697633 0.98746441 0.97713913]\n",
      "Mean R2 score: 0.9841404784568079\n",
      "Std R2 score: 0.0065705988318671485\n",
      "Generalizability on training set :  0.9841404784568079  +/-  0.0065705988318671485\n"
     ]
    }
   ],
   "source": [
    "# evaluate the model with k = 10 Fold Cross validation\n",
    "\n",
    "folds = KFold(n_splits = 10, shuffle = True, random_state = 100)\n",
    "results = cross_val_score(model, X, y, scoring = 'r2', cv = folds)\n",
    "\n",
    "print(type(model).__name__)\n",
    "print(\"kFoldCV:\")\n",
    "print(\"Fold R2 scores:\", results)\n",
    "print(\"Mean R2 score:\", results.mean())\n",
    "print(\"Std R2 score:\", results.std())\n",
    "print(\"Generalizability on training set : \", results.mean(), \" +/- \", results.std())"
   ]
  },
  {
   "cell_type": "markdown",
   "metadata": {
    "colab_type": "text",
    "id": "xNVstf3MRWTS"
   },
   "source": [
    "Feature Selection using Variance Thresholding"
   ]
  },
  {
   "cell_type": "code",
   "execution_count": 47,
   "metadata": {
    "colab": {},
    "colab_type": "code",
    "id": "3fWmra-LRSvk"
   },
   "outputs": [
    {
     "name": "stdout",
     "output_type": "stream",
     "text": [
      "Original shape of X_train :  (273, 20)\n"
     ]
    }
   ],
   "source": [
    "print(\"Original shape of X_train : \", X_train.shape)"
   ]
  },
  {
   "cell_type": "code",
   "execution_count": 48,
   "metadata": {
    "colab": {},
    "colab_type": "code",
    "id": "ZdfMwVybRl9o"
   },
   "outputs": [
    {
     "data": {
      "text/plain": [
       "holiday                     0.026720\n",
       "weekday                     4.024658\n",
       "workingday                  0.216393\n",
       "temp                        0.057592\n",
       "feel_temp                   0.049115\n",
       "hum                         0.023394\n",
       "windspeed                   0.025126\n",
       "promotion_level             0.044400\n",
       "promotion_level_external    0.104256\n",
       "promotion_type_external     0.134599\n",
       "registered                  0.063770\n",
       "season_autumn               0.187671\n",
       "season_spring               0.189041\n",
       "season_summer               0.189041\n",
       "season_winter               0.186286\n",
       "weather_cloud               0.224928\n",
       "weather_fair                0.236444\n",
       "weather_rain                0.039515\n",
       "promotion_type_0            0.250685\n",
       "promotion_type_1            0.250685\n",
       "dtype: float64"
      ]
     },
     "execution_count": 48,
     "metadata": {},
     "output_type": "execute_result"
    }
   ],
   "source": [
    "# check the variance of X.\n",
    "# Note the type(X) should be a pandas DataFrame as stated earlier.\n",
    "\n",
    "X.var()"
   ]
  },
  {
   "cell_type": "markdown",
   "metadata": {
    "colab_type": "text",
    "id": "kk36hVk_Rv6l"
   },
   "source": [
    "Remove low variance features using Variance Threshold. \n",
    "\n",
    "Note : If the variance is less, it implies the values of that particular feature spans limited range of values."
   ]
  },
  {
   "cell_type": "code",
   "execution_count": 52,
   "metadata": {
    "colab": {},
    "colab_type": "code",
    "id": "3RkbbmcuRtkJ"
   },
   "outputs": [
    {
     "data": {
      "text/plain": [
       "VarianceThreshold(threshold=0.001)"
      ]
     },
     "execution_count": 52,
     "metadata": {},
     "output_type": "execute_result"
    }
   ],
   "source": [
    "# play around with the threshold values\n",
    "\n",
    "sel = VarianceThreshold(threshold = (0.001))\n",
    "sel.fit(X_train)"
   ]
  },
  {
   "cell_type": "code",
   "execution_count": 53,
   "metadata": {
    "colab": {},
    "colab_type": "code",
    "id": "Bk525DOySWJp"
   },
   "outputs": [
    {
     "name": "stdout",
     "output_type": "stream",
     "text": [
      "Selected features :  ['holiday', 'weekday', 'workingday', 'temp', 'feel_temp', 'hum', 'windspeed', 'promotion_level', 'promotion_level_external', 'promotion_type_external', 'registered', 'season_autumn', 'season_spring', 'season_summer', 'season_winter', 'weather_cloud', 'weather_fair', 'weather_rain', 'promotion_type_0', 'promotion_type_1']\n",
      "Removed features :  []\n"
     ]
    }
   ],
   "source": [
    "# do not edit.\n",
    "\n",
    "selected_features = list(X_train.columns[sel.get_support()])\n",
    "print(\"Selected features : \", selected_features)\n",
    "print(\"Removed features : \", list(X_train.columns[~sel.get_support()]))"
   ]
  },
  {
   "cell_type": "code",
   "execution_count": 56,
   "metadata": {
    "colab": {},
    "colab_type": "code",
    "id": "Ci3BFPnE5ex4"
   },
   "outputs": [],
   "source": [
    "# Delete the removed features from the train_columns list.\n",
    "removed_features=list(X_train.columns[~sel.get_support()])\n",
    "for i in removed_features:\n",
    "    train_columns.remove(i)"
   ]
  },
  {
   "cell_type": "code",
   "execution_count": 57,
   "metadata": {
    "colab": {},
    "colab_type": "code",
    "id": "k1AQhlAhSXI5"
   },
   "outputs": [],
   "source": [
    "#transform / remove the low variance features\n",
    "\n",
    "X_train = sel.transform(X_train)\n",
    "X_test = sel.transform(X_test)"
   ]
  },
  {
   "cell_type": "markdown",
   "metadata": {
    "colab_type": "text",
    "id": "UH8mZBs3S-i3"
   },
   "source": [
    "## Lasso Regression : L1 - norm"
   ]
  },
  {
   "cell_type": "code",
   "execution_count": 59,
   "metadata": {
    "colab": {},
    "colab_type": "code",
    "id": "0XTVvk4gS98-"
   },
   "outputs": [
    {
     "name": "stdout",
     "output_type": "stream",
     "text": [
      "On train set :  0.9852572676253907\n"
     ]
    }
   ],
   "source": [
    "from sklearn.linear_model import Lasso\n",
    "\n",
    "X_train, X_test, y_train, y_test = train_test_split(X, y, test_size = 0.25, random_state = 100)\n",
    "\n",
    "# hyperparamater alpha : controls the degree of penaliation.\n",
    "# play around with alpha values.\n",
    "alpha = 1.0\n",
    "\n",
    "#create the model\n",
    "model_lasso = Lasso(alpha = alpha)\n",
    "\n",
    "#fit the model on training data\n",
    "model_lasso.fit(X_train, y_train)\n",
    "\n",
    "#calculate the score on training data\n",
    "y_pred_train = model_lasso.predict(X_train)\n",
    "print(\"On train set : \", r2_score(y_train, y_pred_train))"
   ]
  },
  {
   "cell_type": "code",
   "execution_count": 61,
   "metadata": {
    "colab": {},
    "colab_type": "code",
    "id": "PD4NpuxYTWoV"
   },
   "outputs": [
    {
     "name": "stdout",
     "output_type": "stream",
     "text": [
      "On test set :  0.9908025573753062\n"
     ]
    }
   ],
   "source": [
    "#evaluate the model on testing data\n",
    "y_pred_test = model_lasso.predict(X_test)\n",
    "print(\"On test set : \", r2_score(y_test, y_pred_test))"
   ]
  },
  {
   "cell_type": "code",
   "execution_count": 62,
   "metadata": {
    "colab": {},
    "colab_type": "code",
    "id": "bN7w1V5hT2Dp"
   },
   "outputs": [
    {
     "data": {
      "image/png": "[encoded data removed]",
      "text/plain": [
       "<Figure size 576x480 with 1 Axes>"
      ]
     },
     "metadata": {
      "needs_background": "light"
     },
     "output_type": "display_data"
    }
   ],
   "source": [
    "# visualize the coefficients.\n",
    "# compare the results with the plot obtained earlier.\n",
    "\n",
    "custom_summary(model_lasso, train_columns, \"Lasso Regression Coefficients.\")"
   ]
  },
  {
   "cell_type": "markdown",
   "metadata": {
    "colab_type": "text",
    "id": "dsjziyZzUS8P"
   },
   "source": [
    "We can see that Lasso regression has automatically done a lot of feature selection. Some columns might have zero coefficients. It has been effectively removed. <br> \n",
    "The model is much more interpretable than the baseline linear regression model.\n",
    "<br>\n",
    "Hence, Lasso regression has embedded Feature Selection."
   ]
  },
  {
   "cell_type": "markdown",
   "metadata": {
    "colab_type": "text",
    "id": "O9IlW2V2UfD0"
   },
   "source": [
    "# Ridge Regression : L2 - norm"
   ]
  },
  {
   "cell_type": "code",
   "execution_count": 63,
   "metadata": {
    "colab": {},
    "colab_type": "code",
    "id": "j6PRlLONUckx"
   },
   "outputs": [
    {
     "name": "stdout",
     "output_type": "stream",
     "text": [
      "On train set :  0.9794336871854189\n"
     ]
    }
   ],
   "source": [
    "from sklearn.linear_model import Ridge\n",
    "\n",
    "# hyperparamater alpha : controls the degree of penaliation.\n",
    "# play around with alpha values.\n",
    "alpha = 1.0\n",
    "\n",
    "#create the model\n",
    "model_ridge = Ridge(alpha = 1.0)\n",
    "\n",
    "#fit the model on training data\n",
    "model_ridge.fit(X_train, y_train)\n",
    "\n",
    "#calculate the score on training data\n",
    "y_pred_train = model_ridge.predict(X_train)\n",
    "print(\"On train set : \", r2_score(y_train, y_pred_train))\n"
   ]
  },
  {
   "cell_type": "code",
   "execution_count": 64,
   "metadata": {
    "colab": {},
    "colab_type": "code",
    "id": "jzukav_PVTG2"
   },
   "outputs": [
    {
     "name": "stdout",
     "output_type": "stream",
     "text": [
      "On test set :  0.9854866639775893\n"
     ]
    }
   ],
   "source": [
    "#evaluate the model on testing data\n",
    "y_pred_test = model_ridge.predict(X_test)\n",
    "print(\"On test set : \", r2_score(y_test, y_pred_test))"
   ]
  },
  {
   "cell_type": "code",
   "execution_count": 65,
   "metadata": {
    "colab": {},
    "colab_type": "code",
    "id": "c39ZBnmvVYSA"
   },
   "outputs": [
    {
     "data": {
      "image/png": "[encoded data removed]",
      "text/plain": [
       "<Figure size 576x480 with 1 Axes>"
      ]
     },
     "metadata": {
      "needs_background": "light"
     },
     "output_type": "display_data"
    }
   ],
   "source": [
    "# visualize the coefficients.\n",
    "# compare the results with the plot obtained earlier.\n",
    "\n",
    "custom_summary(model_ridge, train_columns, \"Ridge Regression Coefficients.\")"
   ]
  },
  {
   "cell_type": "markdown",
   "metadata": {
    "colab_type": "text",
    "id": "TqLF3812VefE"
   },
   "source": [
    "Ridge regression doesn't drive smaller coefficients to 0 hence it doesn't possess internal feature selection."
   ]
  },
  {
   "cell_type": "markdown",
   "metadata": {
    "colab_type": "text",
    "id": "DUCm0xOc6inT"
   },
   "source": [
    "Points to Ponder ! [Optional]"
   ]
  },
  {
   "cell_type": "markdown",
   "metadata": {
    "colab_type": "text",
    "id": "l9FHk5sw6nLb"
   },
   "source": [
    "Did you notice the highest dependency on the feature \"registered\" if you haven't removed it till now ?\n",
    "\n",
    "Since our target is \"cnt\" which is the simple combination of \"registered\" and \"casual\".\n",
    "\n",
    "we have removed \"casual\", but the model was smart enough to predict the target \"cnt\" simply from one feature \"registered\" itself. \n",
    "\n",
    "This is the classic example of Data Leakage. So the aim here is not to make 99 percent accurate predictions, the aim is to take into account the factors for making predictions.\n",
    "\n",
    "So, to get a detailed report, we should avoid data leakage thereby removing both the features \"registered\" and \"casual\"."
   ]
  },
  {
   "cell_type": "code",
   "execution_count": null,
   "metadata": {
    "colab": {},
    "colab_type": "code",
    "id": "4euMcAFR6kLG"
   },
   "outputs": [],
   "source": []
  }
 ],
 "metadata": {
  "colab": {
   "collapsed_sections": [],
   "name": "task1_LinearRegression.ipynb",
   "provenance": []
  },
  "kernelspec": {
   "display_name": "Python 3",
   "language": "python",
   "name": "python3"
  },
  "language_info": {
   "codemirror_mode": {
    "name": "ipython",
    "version": 3
   },
   "file_extension": ".py",
   "mimetype": "text/x-python",
   "name": "python",
   "nbconvert_exporter": "python",
   "pygments_lexer": "ipython3",
   "version": "3.8.3"
  }
 },
 "nbformat": 4,
 "nbformat_minor": 1
}
