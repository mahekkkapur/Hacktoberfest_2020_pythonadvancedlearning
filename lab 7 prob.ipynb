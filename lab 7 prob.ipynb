{
 "cells": [
  {
   "cell_type": "code",
   "execution_count": 2,
   "metadata": {},
   "outputs": [
    {
     "name": "stdout",
     "output_type": "stream",
     "text": [
      "a's value is?  2\n",
      "b's value is?  3\n",
      "The Mean is  2.9993039042761205\n",
      "The Mean Percentage Error is  0.06960957238795196 %\n",
      "The Variance is  3.99580403410533\n",
      "Variance Percentage Error is  0.4195965894670195 %\n"
     ]
    }
   ],
   "source": [
    "import random as rand\n",
    "import statistics as st\n",
    "import numpy as nump\n",
    "import seaborn as seab\n",
    "array=nump.random.normal(0,1,900000)\n",
    "a=int(input(\"a's value is?  \"))\n",
    "b=int(input(\"b's value is?  \"))\n",
    "for i in range(len(array)):\n",
    "    array[i]=(a*array[i]+b)\n",
    "sum=0\n",
    "var=0\n",
    "for i in array:\n",
    "    sum=sum+i\n",
    "mean=(sum)/len(array)\n",
    "for i in array:\n",
    "    var=var+((i-mean)**2)\n",
    "var=var/len(array)\n",
    "print(\"The Mean is \",mean)\n",
    "print(\"The Mean Percentage Error is \",abs(b-mean)*100,\"%\")\n",
    "print(\"The Variance is \",var)\n",
    "print(\"Variance Percentage Error is \",abs((a**2)-var)*100,\"%\")"
   ]
  },
  {
   "cell_type": "code",
   "execution_count": 3,
   "metadata": {},
   "outputs": [
    {
     "data": {
      "text/plain": [
       "(array([1.000e+00, 0.000e+00, 0.000e+00, 0.000e+00, 0.000e+00, 0.000e+00,\n",
       "        0.000e+00, 0.000e+00, 0.000e+00, 0.000e+00, 0.000e+00, 0.000e+00,\n",
       "        0.000e+00, 0.000e+00, 0.000e+00, 0.000e+00, 0.000e+00, 0.000e+00,\n",
       "        0.000e+00, 0.000e+00, 0.000e+00, 0.000e+00, 0.000e+00, 0.000e+00,\n",
       "        0.000e+00, 0.000e+00, 0.000e+00, 1.000e+00, 0.000e+00, 0.000e+00,\n",
       "        0.000e+00, 1.000e+00, 1.000e+00, 0.000e+00, 0.000e+00, 1.000e+00,\n",
       "        0.000e+00, 0.000e+00, 2.000e+00, 1.000e+00, 0.000e+00, 0.000e+00,\n",
       "        2.000e+00, 1.000e+00, 1.000e+00, 2.000e+00, 2.000e+00, 2.000e+00,\n",
       "        0.000e+00, 0.000e+00, 1.000e+00, 2.000e+00, 1.000e+00, 4.000e+00,\n",
       "        2.000e+00, 3.000e+00, 5.000e+00, 1.000e+00, 3.000e+00, 0.000e+00,\n",
       "        4.000e+00, 2.000e+00, 6.000e+00, 7.000e+00, 8.000e+00, 8.000e+00,\n",
       "        2.000e+00, 3.000e+00, 7.000e+00, 7.000e+00, 8.000e+00, 9.000e+00,\n",
       "        1.700e+01, 1.000e+01, 5.000e+00, 1.200e+01, 1.500e+01, 1.700e+01,\n",
       "        2.300e+01, 1.800e+01, 1.800e+01, 2.500e+01, 2.000e+01, 2.000e+01,\n",
       "        1.500e+01, 3.300e+01, 3.600e+01, 4.000e+01, 4.500e+01, 4.900e+01,\n",
       "        2.900e+01, 4.100e+01, 4.000e+01, 5.700e+01, 4.800e+01, 7.000e+01,\n",
       "        6.500e+01, 7.800e+01, 6.800e+01, 9.100e+01, 9.800e+01, 1.020e+02,\n",
       "        1.110e+02, 1.000e+02, 1.160e+02, 1.380e+02, 1.210e+02, 1.570e+02,\n",
       "        1.300e+02, 1.710e+02, 1.870e+02, 1.770e+02, 2.040e+02, 2.240e+02,\n",
       "        2.410e+02, 2.230e+02, 2.530e+02, 2.690e+02, 2.540e+02, 2.990e+02,\n",
       "        3.060e+02, 3.450e+02, 3.610e+02, 3.870e+02, 3.770e+02, 3.830e+02,\n",
       "        3.960e+02, 4.560e+02, 4.790e+02, 4.910e+02, 5.560e+02, 5.870e+02,\n",
       "        5.880e+02, 6.330e+02, 6.490e+02, 6.940e+02, 7.410e+02, 8.150e+02,\n",
       "        7.850e+02, 8.860e+02, 8.320e+02, 9.390e+02, 9.590e+02, 1.009e+03,\n",
       "        1.038e+03, 1.044e+03, 1.155e+03, 1.211e+03, 1.266e+03, 1.312e+03,\n",
       "        1.321e+03, 1.385e+03, 1.511e+03, 1.582e+03, 1.682e+03, 1.668e+03,\n",
       "        1.834e+03, 1.785e+03, 1.837e+03, 2.016e+03, 2.014e+03, 2.102e+03,\n",
       "        2.236e+03, 2.354e+03, 2.366e+03, 2.492e+03, 2.482e+03, 2.638e+03,\n",
       "        2.665e+03, 2.775e+03, 2.909e+03, 2.919e+03, 3.111e+03, 3.122e+03,\n",
       "        3.250e+03, 3.322e+03, 3.540e+03, 3.689e+03, 3.576e+03, 3.781e+03,\n",
       "        3.925e+03, 3.994e+03, 4.259e+03, 4.154e+03, 4.370e+03, 4.394e+03,\n",
       "        4.580e+03, 4.596e+03, 4.817e+03, 4.837e+03, 4.990e+03, 5.078e+03,\n",
       "        5.114e+03, 5.334e+03, 5.383e+03, 5.559e+03, 5.696e+03, 5.752e+03,\n",
       "        5.844e+03, 5.876e+03, 6.187e+03, 6.139e+03, 6.324e+03, 6.246e+03,\n",
       "        6.382e+03, 6.636e+03, 6.555e+03, 6.797e+03, 6.753e+03, 6.872e+03,\n",
       "        6.822e+03, 7.128e+03, 7.107e+03, 7.163e+03, 7.288e+03, 7.510e+03,\n",
       "        7.246e+03, 7.588e+03, 7.441e+03, 7.685e+03, 7.567e+03, 7.861e+03,\n",
       "        7.681e+03, 7.866e+03, 7.821e+03, 7.794e+03, 7.894e+03, 8.010e+03,\n",
       "        7.941e+03, 8.041e+03, 8.152e+03, 7.964e+03, 7.977e+03, 8.094e+03,\n",
       "        8.154e+03, 8.008e+03, 8.034e+03, 7.967e+03, 8.043e+03, 7.943e+03,\n",
       "        7.906e+03, 7.854e+03, 7.812e+03, 7.917e+03, 7.750e+03, 7.803e+03,\n",
       "        7.658e+03, 7.648e+03, 7.744e+03, 7.458e+03, 7.492e+03, 7.553e+03,\n",
       "        7.407e+03, 7.271e+03, 7.195e+03, 7.258e+03, 7.138e+03, 7.121e+03,\n",
       "        6.906e+03, 6.847e+03, 6.588e+03, 6.646e+03, 6.692e+03, 6.513e+03,\n",
       "        6.516e+03, 6.265e+03, 6.207e+03, 6.225e+03, 6.251e+03, 5.959e+03,\n",
       "        5.761e+03, 5.703e+03, 5.571e+03, 5.476e+03, 5.258e+03, 5.246e+03,\n",
       "        5.112e+03, 5.037e+03, 5.021e+03, 4.900e+03, 4.686e+03, 4.623e+03,\n",
       "        4.548e+03, 4.553e+03, 4.274e+03, 4.177e+03, 4.121e+03, 3.913e+03,\n",
       "        3.848e+03, 3.747e+03, 3.727e+03, 3.558e+03, 3.401e+03, 3.245e+03,\n",
       "        3.141e+03, 3.051e+03, 3.043e+03, 2.943e+03, 2.859e+03, 2.879e+03,\n",
       "        2.748e+03, 2.596e+03, 2.447e+03, 2.419e+03, 2.265e+03, 2.278e+03,\n",
       "        2.168e+03, 2.123e+03, 2.008e+03, 1.937e+03, 1.840e+03, 1.749e+03,\n",
       "        1.730e+03, 1.608e+03, 1.575e+03, 1.601e+03, 1.486e+03, 1.434e+03,\n",
       "        1.285e+03, 1.304e+03, 1.343e+03, 1.189e+03, 1.146e+03, 1.093e+03,\n",
       "        1.034e+03, 1.019e+03, 9.440e+02, 8.930e+02, 8.820e+02, 8.200e+02,\n",
       "        7.690e+02, 7.560e+02, 7.640e+02, 6.760e+02, 6.610e+02, 6.190e+02,\n",
       "        5.870e+02, 5.930e+02, 5.370e+02, 4.780e+02, 4.710e+02, 4.650e+02,\n",
       "        4.280e+02, 3.720e+02, 3.770e+02, 3.680e+02, 3.230e+02, 3.140e+02,\n",
       "        3.090e+02, 3.080e+02, 2.660e+02, 2.640e+02, 2.620e+02, 2.140e+02,\n",
       "        2.030e+02, 2.290e+02, 1.720e+02, 1.810e+02, 1.720e+02, 1.530e+02,\n",
       "        1.470e+02, 1.290e+02, 1.330e+02, 1.340e+02, 9.700e+01, 1.060e+02,\n",
       "        1.090e+02, 8.600e+01, 9.400e+01, 8.200e+01, 8.200e+01, 8.100e+01,\n",
       "        7.200e+01, 5.200e+01, 6.100e+01, 5.000e+01, 6.100e+01, 4.100e+01,\n",
       "        4.200e+01, 3.500e+01, 3.900e+01, 3.300e+01, 2.700e+01, 2.200e+01,\n",
       "        2.500e+01, 3.000e+01, 3.000e+01, 1.800e+01, 1.900e+01, 1.100e+01,\n",
       "        2.200e+01, 1.600e+01, 1.800e+01, 1.700e+01, 8.000e+00, 1.000e+01,\n",
       "        6.000e+00, 1.200e+01, 9.000e+00, 1.000e+01, 6.000e+00, 5.000e+00,\n",
       "        7.000e+00, 0.000e+00, 8.000e+00, 6.000e+00, 5.000e+00, 0.000e+00,\n",
       "        2.000e+00, 3.000e+00, 4.000e+00, 5.000e+00, 3.000e+00, 2.000e+00,\n",
       "        1.000e+00, 1.000e+00, 3.000e+00, 0.000e+00, 2.000e+00, 1.000e+00,\n",
       "        2.000e+00, 1.000e+00, 0.000e+00, 0.000e+00, 0.000e+00, 1.000e+00,\n",
       "        1.000e+00, 1.000e+00, 1.000e+00, 1.000e+00, 1.000e+00, 2.000e+00,\n",
       "        2.000e+00, 0.000e+00, 0.000e+00, 0.000e+00, 0.000e+00, 1.000e+00,\n",
       "        0.000e+00, 0.000e+00, 0.000e+00, 0.000e+00, 0.000e+00, 0.000e+00,\n",
       "        0.000e+00, 0.000e+00, 0.000e+00, 0.000e+00, 0.000e+00, 1.000e+00]),\n",
       " array([-7.50078457, -7.45597692, -7.41116926, -7.36636161, -7.32155395,\n",
       "        -7.2767463 , -7.23193864, -7.18713099, -7.14232333, -7.09751568,\n",
       "        -7.05270802, -7.00790037, -6.96309271, -6.91828506, -6.8734774 ,\n",
       "        -6.82866975, -6.78386209, -6.73905444, -6.69424678, -6.64943913,\n",
       "        -6.60463147, -6.55982382, -6.51501616, -6.47020851, -6.42540085,\n",
       "        -6.3805932 , -6.33578554, -6.29097789, -6.24617023, -6.20136257,\n",
       "        -6.15655492, -6.11174726, -6.06693961, -6.02213195, -5.9773243 ,\n",
       "        -5.93251664, -5.88770899, -5.84290133, -5.79809368, -5.75328602,\n",
       "        -5.70847837, -5.66367071, -5.61886306, -5.5740554 , -5.52924775,\n",
       "        -5.48444009, -5.43963244, -5.39482478, -5.35001713, -5.30520947,\n",
       "        -5.26040182, -5.21559416, -5.17078651, -5.12597885, -5.0811712 ,\n",
       "        -5.03636354, -4.99155589, -4.94674823, -4.90194058, -4.85713292,\n",
       "        -4.81232527, -4.76751761, -4.72270996, -4.6779023 , -4.63309465,\n",
       "        -4.58828699, -4.54347934, -4.49867168, -4.45386403, -4.40905637,\n",
       "        -4.36424872, -4.31944106, -4.2746334 , -4.22982575, -4.18501809,\n",
       "        -4.14021044, -4.09540278, -4.05059513, -4.00578747, -3.96097982,\n",
       "        -3.91617216, -3.87136451, -3.82655685, -3.7817492 , -3.73694154,\n",
       "        -3.69213389, -3.64732623, -3.60251858, -3.55771092, -3.51290327,\n",
       "        -3.46809561, -3.42328796, -3.3784803 , -3.33367265, -3.28886499,\n",
       "        -3.24405734, -3.19924968, -3.15444203, -3.10963437, -3.06482672,\n",
       "        -3.02001906, -2.97521141, -2.93040375, -2.8855961 , -2.84078844,\n",
       "        -2.79598079, -2.75117313, -2.70636548, -2.66155782, -2.61675017,\n",
       "        -2.57194251, -2.52713486, -2.4823272 , -2.43751955, -2.39271189,\n",
       "        -2.34790423, -2.30309658, -2.25828892, -2.21348127, -2.16867361,\n",
       "        -2.12386596, -2.0790583 , -2.03425065, -1.98944299, -1.94463534,\n",
       "        -1.89982768, -1.85502003, -1.81021237, -1.76540472, -1.72059706,\n",
       "        -1.67578941, -1.63098175, -1.5861741 , -1.54136644, -1.49655879,\n",
       "        -1.45175113, -1.40694348, -1.36213582, -1.31732817, -1.27252051,\n",
       "        -1.22771286, -1.1829052 , -1.13809755, -1.09328989, -1.04848224,\n",
       "        -1.00367458, -0.95886693, -0.91405927, -0.86925162, -0.82444396,\n",
       "        -0.77963631, -0.73482865, -0.690021  , -0.64521334, -0.60040569,\n",
       "        -0.55559803, -0.51079038, -0.46598272, -0.42117506, -0.37636741,\n",
       "        -0.33155975, -0.2867521 , -0.24194444, -0.19713679, -0.15232913,\n",
       "        -0.10752148, -0.06271382, -0.01790617,  0.02690149,  0.07170914,\n",
       "         0.1165168 ,  0.16132445,  0.20613211,  0.25093976,  0.29574742,\n",
       "         0.34055507,  0.38536273,  0.43017038,  0.47497804,  0.51978569,\n",
       "         0.56459335,  0.609401  ,  0.65420866,  0.69901631,  0.74382397,\n",
       "         0.78863162,  0.83343928,  0.87824693,  0.92305459,  0.96786224,\n",
       "         1.0126699 ,  1.05747755,  1.10228521,  1.14709286,  1.19190052,\n",
       "         1.23670817,  1.28151583,  1.32632348,  1.37113114,  1.41593879,\n",
       "         1.46074645,  1.50555411,  1.55036176,  1.59516942,  1.63997707,\n",
       "         1.68478473,  1.72959238,  1.77440004,  1.81920769,  1.86401535,\n",
       "         1.908823  ,  1.95363066,  1.99843831,  2.04324597,  2.08805362,\n",
       "         2.13286128,  2.17766893,  2.22247659,  2.26728424,  2.3120919 ,\n",
       "         2.35689955,  2.40170721,  2.44651486,  2.49132252,  2.53613017,\n",
       "         2.58093783,  2.62574548,  2.67055314,  2.71536079,  2.76016845,\n",
       "         2.8049761 ,  2.84978376,  2.89459141,  2.93939907,  2.98420672,\n",
       "         3.02901438,  3.07382203,  3.11862969,  3.16343734,  3.208245  ,\n",
       "         3.25305265,  3.29786031,  3.34266796,  3.38747562,  3.43228328,\n",
       "         3.47709093,  3.52189859,  3.56670624,  3.6115139 ,  3.65632155,\n",
       "         3.70112921,  3.74593686,  3.79074452,  3.83555217,  3.88035983,\n",
       "         3.92516748,  3.96997514,  4.01478279,  4.05959045,  4.1043981 ,\n",
       "         4.14920576,  4.19401341,  4.23882107,  4.28362872,  4.32843638,\n",
       "         4.37324403,  4.41805169,  4.46285934,  4.507667  ,  4.55247465,\n",
       "         4.59728231,  4.64208996,  4.68689762,  4.73170527,  4.77651293,\n",
       "         4.82132058,  4.86612824,  4.91093589,  4.95574355,  5.0005512 ,\n",
       "         5.04535886,  5.09016651,  5.13497417,  5.17978182,  5.22458948,\n",
       "         5.26939714,  5.31420479,  5.35901245,  5.4038201 ,  5.44862776,\n",
       "         5.49343541,  5.53824307,  5.58305072,  5.62785838,  5.67266603,\n",
       "         5.71747369,  5.76228134,  5.807089  ,  5.85189665,  5.89670431,\n",
       "         5.94151196,  5.98631962,  6.03112727,  6.07593493,  6.12074258,\n",
       "         6.16555024,  6.21035789,  6.25516555,  6.2999732 ,  6.34478086,\n",
       "         6.38958851,  6.43439617,  6.47920382,  6.52401148,  6.56881913,\n",
       "         6.61362679,  6.65843444,  6.7032421 ,  6.74804975,  6.79285741,\n",
       "         6.83766506,  6.88247272,  6.92728037,  6.97208803,  7.01689568,\n",
       "         7.06170334,  7.10651099,  7.15131865,  7.19612631,  7.24093396,\n",
       "         7.28574162,  7.33054927,  7.37535693,  7.42016458,  7.46497224,\n",
       "         7.50977989,  7.55458755,  7.5993952 ,  7.64420286,  7.68901051,\n",
       "         7.73381817,  7.77862582,  7.82343348,  7.86824113,  7.91304879,\n",
       "         7.95785644,  8.0026641 ,  8.04747175,  8.09227941,  8.13708706,\n",
       "         8.18189472,  8.22670237,  8.27151003,  8.31631768,  8.36112534,\n",
       "         8.40593299,  8.45074065,  8.4955483 ,  8.54035596,  8.58516361,\n",
       "         8.62997127,  8.67477892,  8.71958658,  8.76439423,  8.80920189,\n",
       "         8.85400954,  8.8988172 ,  8.94362485,  8.98843251,  9.03324016,\n",
       "         9.07804782,  9.12285548,  9.16766313,  9.21247079,  9.25727844,\n",
       "         9.3020861 ,  9.34689375,  9.39170141,  9.43650906,  9.48131672,\n",
       "         9.52612437,  9.57093203,  9.61573968,  9.66054734,  9.70535499,\n",
       "         9.75016265,  9.7949703 ,  9.83977796,  9.88458561,  9.92939327,\n",
       "         9.97420092, 10.01900858, 10.06381623, 10.10862389, 10.15343154,\n",
       "        10.1982392 , 10.24304685, 10.28785451, 10.33266216, 10.37746982,\n",
       "        10.42227747, 10.46708513, 10.51189278, 10.55670044, 10.60150809,\n",
       "        10.64631575, 10.6911234 , 10.73593106, 10.78073871, 10.82554637,\n",
       "        10.87035402, 10.91516168, 10.95996933, 11.00477699, 11.04958465,\n",
       "        11.0943923 , 11.13919996, 11.18400761, 11.22881527, 11.27362292,\n",
       "        11.31843058, 11.36323823, 11.40804589, 11.45285354, 11.4976612 ,\n",
       "        11.54246885, 11.58727651, 11.63208416, 11.67689182, 11.72169947,\n",
       "        11.76650713, 11.81131478, 11.85612244, 11.90093009, 11.94573775,\n",
       "        11.9905454 , 12.03535306, 12.08016071, 12.12496837, 12.16977602,\n",
       "        12.21458368, 12.25939133, 12.30419899, 12.34900664, 12.3938143 ,\n",
       "        12.43862195, 12.48342961, 12.52823726, 12.57304492, 12.61785257,\n",
       "        12.66266023]),\n",
       " <a list of 450 Patch objects>)"
      ]
     },
     "execution_count": 3,
     "metadata": {},
     "output_type": "execute_result"
    },
    {
     "data": {
      "image/png": "[encoded data removed]",
      "text/plain": [
       "<Figure size 432x288 with 1 Axes>"
      ]
     },
     "metadata": {},
     "output_type": "display_data"
    }
   ],
   "source": [
    "import matplotlib.pyplot as plt\n",
    "plt.hist(array,450, color=\"yellow\")"
   ]
  },
  {
   "cell_type": "markdown",
   "metadata": {},
   "source": [
    "## Q2"
   ]
  },
  {
   "cell_type": "code",
   "execution_count": 4,
   "metadata": {},
   "outputs": [
    {
     "name": "stdout",
     "output_type": "stream",
     "text": [
      "a's value is?  2\n",
      "b's value is?  3\n",
      "1.6283877745714166\n",
      "3.660788136208588\n",
      "The mean is  1.6283877745714166\n",
      "The mean perc error is 162.83877745714165 %\n",
      "The var is  3.660788136208588\n",
      "The var per error is  266.0788136208588 %\n"
     ]
    }
   ],
   "source": [
    "\n",
    "\n",
    "a=int(input(\"a's value is?  \"))\n",
    "b=int(input(\"b's value is?  \"))\n",
    "array=nump.random.normal(a,b,105000)\n",
    "for k in range(len(array)):\n",
    "    array[k]=((array[k]-a)/b)\n",
    "mean, var = mean_value(array)\n",
    "print(mean)\n",
    "print(var)\n",
    "print(\"The mean is \",mean)\n",
    "print(\"The mean perc error is\",abs(0-mean)*100,\"%\")\n",
    "print(\"The var is \",var)\n",
    "print(\"The var per error is \",abs(1-var)*100,\"%\")"
   ]
  },
  {
   "cell_type": "code",
   "execution_count": 5,
   "metadata": {},
   "outputs": [],
   "source": [
    "def mean_o(a):\n",
    "    sum=0\n",
    "    for i in a:\n",
    "        sum=sum+i\n",
    "    return (sum/len(a))\n",
    "def mean(array):\n",
    "    sum=0\n",
    "    for i in array:\n",
    "        sum=sum+i\n",
    "    var=0\n",
    "    mean=sum/len(array)\n",
    "    for i in array:\n",
    "        var=var+((i-mean)**2)\n",
    "    return(mean,var/len(array))\n",
    "def var_o(a):\n",
    "    sum=0\n",
    "    for i in a:\n",
    "        sum=sum+i\n",
    "    mean=sum/len(a)\n",
    "    var=0\n",
    "    for i in a:\n",
    "        var=var+((i-mean)**2)\n",
    "    return(var/len(array))"
   ]
  },
  {
   "cell_type": "code",
   "execution_count": 6,
   "metadata": {},
   "outputs": [
    {
     "name": "stdout",
     "output_type": "stream",
     "text": [
      "what's the 1)Mean 2\n",
      "what's the 2)Variance 3\n",
      "The mean of your given means is  2.002362155387241\n",
      "Hence the percentage error is  0.23621553872410495 %\n"
     ]
    },
    {
     "name": "stderr",
     "output_type": "stream",
     "text": [
      "C:\\Users\\HP\\Anaconda3\\lib\\site-packages\\matplotlib\\axes\\_axes.py:6462: UserWarning: The 'normed' kwarg is deprecated, and has been replaced by the 'density' kwarg.\n",
      "  warnings.warn(\"The 'normed' kwarg is deprecated, and has been \"\n"
     ]
    },
    {
     "data": {
      "text/plain": [
       "<matplotlib.axes._subplots.AxesSubplot at 0x236d79ff4a8>"
      ]
     },
     "execution_count": 6,
     "metadata": {},
     "output_type": "execute_result"
    },
    {
     "data": {
      "image/png": "[encoded data removed]",
      "text/plain": [
       "<Figure size 432x288 with 1 Axes>"
      ]
     },
     "metadata": {},
     "output_type": "display_data"
    }
   ],
   "source": [
    "Mean=[]\n",
    "Var=[]\n",
    "a=int(input(\"what's the 1)Mean \"))\n",
    "b=int(input(\"what's the 2)Variance \"))\n",
    "create_cpy=a\n",
    "array=nump.random.normal(a,b,750000)\n",
    "for i in range(90090):\n",
    "    n_array=[]\n",
    "    for j in range(50):\n",
    "        n_array.append(array[rand.randint(0,len(array)-1)])\n",
    "    a,b=mean(n_array)\n",
    "    Mean.append(a)\n",
    "    Var.append(b)\n",
    "result = mean_o(Mean)\n",
    "print(\"The mean of your given means is \",result)\n",
    "print(\"Hence the percentage error is \",abs(result-create_cpy)*100,\"%\")\n",
    "\n",
    "seab.distplot(Mean,color=\"yellow\",label=\"The Means Of The Normal Dist.\")"
   ]
  },
  {
   "cell_type": "markdown",
   "metadata": {},
   "source": [
    "## Q3"
   ]
  },
  {
   "cell_type": "code",
   "execution_count": 7,
   "metadata": {},
   "outputs": [],
   "source": [
    "def meanomean(array):\n",
    "    Mean=[]\n",
    "    \n",
    "    for i in range(5000):\n",
    "        n_array=[]\n",
    "        for j in range(100):\n",
    "            n_array.append(array[rand.randint(0,len(array)-1)])\n",
    "        Mean.append(st.mean(n_array))\n",
    "        \n",
    "    return Mean"
   ]
  },
  {
   "cell_type": "code",
   "execution_count": 10,
   "metadata": {},
   "outputs": [
    {
     "name": "stdout",
     "output_type": "stream",
     "text": [
      "Mean of the mean 99.524\n",
      "THe percentage error is  47.59999999999991 %\n"
     ]
    }
   ],
   "source": [
    "lam=100\n",
    "array=nump.random.poisson(lam,200000)\n",
    "Mean=meanomean(array)\n",
    "result=mean_o(Mean)\n",
    "print(\"Mean of the mean\",result)\n",
    "print(\"THe percentage error is \",abs(result-lam)*100,\"%\")"
   ]
  },
  {
   "cell_type": "code",
   "execution_count": 11,
   "metadata": {},
   "outputs": [
    {
     "data": {
      "text/plain": [
       "(array([0., 0., 0., 0., 0., 0., 0., 0., 0., 0., 0., 0., 0., 0., 0., 0., 0.,\n",
       "        0., 0., 0., 0., 0., 0., 0., 0., 0., 0., 0., 0., 0., 0., 0., 0., 0.,\n",
       "        0., 0., 0., 0., 0., 0., 0., 0., 0., 0., 0., 0., 0., 0., 0., 0., 1.,\n",
       "        0., 0., 0., 0., 0., 0., 0., 0., 0., 0., 0., 0., 0., 0., 0., 0., 0.,\n",
       "        0., 0., 0., 0., 0., 0., 0., 0., 0., 0., 0., 0., 0., 0., 0., 0., 0.,\n",
       "        0., 0., 0., 0., 0., 0., 0., 0., 0., 0., 0., 0., 0., 0., 0.]),\n",
       " array([ 99.024,  99.034,  99.044,  99.054,  99.064,  99.074,  99.084,\n",
       "         99.094,  99.104,  99.114,  99.124,  99.134,  99.144,  99.154,\n",
       "         99.164,  99.174,  99.184,  99.194,  99.204,  99.214,  99.224,\n",
       "         99.234,  99.244,  99.254,  99.264,  99.274,  99.284,  99.294,\n",
       "         99.304,  99.314,  99.324,  99.334,  99.344,  99.354,  99.364,\n",
       "         99.374,  99.384,  99.394,  99.404,  99.414,  99.424,  99.434,\n",
       "         99.444,  99.454,  99.464,  99.474,  99.484,  99.494,  99.504,\n",
       "         99.514,  99.524,  99.534,  99.544,  99.554,  99.564,  99.574,\n",
       "         99.584,  99.594,  99.604,  99.614,  99.624,  99.634,  99.644,\n",
       "         99.654,  99.664,  99.674,  99.684,  99.694,  99.704,  99.714,\n",
       "         99.724,  99.734,  99.744,  99.754,  99.764,  99.774,  99.784,\n",
       "         99.794,  99.804,  99.814,  99.824,  99.834,  99.844,  99.854,\n",
       "         99.864,  99.874,  99.884,  99.894,  99.904,  99.914,  99.924,\n",
       "         99.934,  99.944,  99.954,  99.964,  99.974,  99.984,  99.994,\n",
       "        100.004, 100.014, 100.024]),\n",
       " <a list of 100 Patch objects>)"
      ]
     },
     "execution_count": 11,
     "metadata": {},
     "output_type": "execute_result"
    },
    {
     "data": {
      "image/png": "[encoded data removed]",
      "text/plain": [
       "<Figure size 432x288 with 1 Axes>"
      ]
     },
     "metadata": {},
     "output_type": "display_data"
    }
   ],
   "source": [
    "plt.hist(result,bins=100)"
   ]
  },
  {
   "cell_type": "code",
   "execution_count": null,
   "metadata": {},
   "outputs": [],
   "source": [
    "#poisson\n",
    "a = nump.random.poisson(10,100000)\n",
    "print(st.mean(a))\n",
    "arrayy = meanomean(a)\n",
    "plt.hist(arrayy,bins=100)"
   ]
  },
  {
   "cell_type": "code",
   "execution_count": 26,
   "metadata": {},
   "outputs": [
    {
     "name": "stderr",
     "output_type": "stream",
     "text": [
      "C:\\Users\\HP\\Anaconda3\\lib\\site-packages\\matplotlib\\axes\\_axes.py:6462: UserWarning: The 'normed' kwarg is deprecated, and has been replaced by the 'density' kwarg.\n",
      "  warnings.warn(\"The 'normed' kwarg is deprecated, and has been \"\n",
      "C:\\Users\\HP\\Anaconda3\\lib\\site-packages\\statsmodels\\nonparametric\\kde.py:488: RuntimeWarning: invalid value encountered in true_divide\n",
      "  binned = fast_linbin(X, a, b, gridsize) / (delta * nobs)\n",
      "C:\\Users\\HP\\Anaconda3\\lib\\site-packages\\statsmodels\\nonparametric\\kdetools.py:34: RuntimeWarning: invalid value encountered in double_scalars\n",
      "  FAC1 = 2*(np.pi*bw/RANGE)**2\n"
     ]
    },
    {
     "data": {
      "text/plain": [
       "<matplotlib.axes._subplots.AxesSubplot at 0x1e254de3be0>"
      ]
     },
     "execution_count": 26,
     "metadata": {},
     "output_type": "execute_result"
    },
    {
     "data": {
      "image/png": "[encoded data removed]",
      "text/plain": [
       "<Figure size 432x288 with 1 Axes>"
      ]
     },
     "metadata": {},
     "output_type": "display_data"
    }
   ],
   "source": [
    "seab.distplot(Mean,color=\"yellow\",label=\"The Mean Of Poisson The Distribution\")"
   ]
  },
  {
   "cell_type": "code",
   "execution_count": null,
   "metadata": {},
   "outputs": [],
   "source": [
    "lam=int(input(\"Enter the value of lambda  \"))\n",
    "array=nump.random.exponential(lam,1000000)\n",
    "Mean=meanomean(array)\n",
    "result=mean_o(Mean)\n",
    "print(\"Mean of means\",result)\n",
    "print(\"Percentage error = \",abs(result-lam)*100,\"%\")"
   ]
  },
  {
   "cell_type": "markdown",
   "metadata": {},
   "source": [
    "seab.distplot(Mean,color=\"yellow\",label=\"Means Of Exponential Distribution\")"
   ]
  },
  {
   "cell_type": "code",
   "execution_count": 18,
   "metadata": {},
   "outputs": [
    {
     "name": "stdout",
     "output_type": "stream",
     "text": [
      "<function meanomean at 0x000001E251CFD0D0>\n"
     ]
    }
   ],
   "source": [
    "print(meanomean)"
   ]
  },
  {
   "cell_type": "code",
   "execution_count": 20,
   "metadata": {},
   "outputs": [
    {
     "name": "stdout",
     "output_type": "stream",
     "text": [
      "def meanomean(array):\n",
      "    Mean=[]\n",
      "    \n",
      "    for i in range(5000):\n",
      "        n_array=[]\n",
      "        for j in range(100):\n",
      "            n_array.append(array[rand.randint(0,len(array)-1)])\n",
      "        a,b=mean_value(n_array)\n",
      "        Mean.append(a)\n",
      "    return Mean\n",
      "\n"
     ]
    }
   ],
   "source": [
    "import inspect\n",
    "code, line_no = inspect.getsourcelines(meanomean)\n",
    "print(''.join(code))"
   ]
  },
  {
   "cell_type": "code",
   "execution_count": 21,
   "metadata": {},
   "outputs": [
    {
     "data": {
      "text/plain": [
       "<matplotlib.axes._subplots.AxesSubplot at 0x1e253b22358>"
      ]
     },
     "execution_count": 21,
     "metadata": {},
     "output_type": "execute_result"
    },
    {
     "data": {
      "image/png": "[encoded data removed]",
      "text/plain": [
       "<Figure size 432x288 with 1 Axes>"
      ]
     },
     "metadata": {},
     "output_type": "display_data"
    }
   ],
   "source": [
    "plt.subplot()"
   ]
  },
  {
   "cell_type": "code",
   "execution_count": null,
   "metadata": {},
   "outputs": [],
   "source": []
  }
 ],
 "metadata": {
  "kernelspec": {
   "display_name": "Python 3",
   "language": "python",
   "name": "python3"
  }
 },
 "nbformat": 4,
 "nbformat_minor": 2
}
